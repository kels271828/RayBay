{
 "cells": [
  {
   "cell_type": "markdown",
   "id": "1365041d",
   "metadata": {},
   "source": [
    "# Utility Results"
   ]
  },
  {
   "cell_type": "code",
   "execution_count": 1,
   "id": "fe61074c",
   "metadata": {},
   "outputs": [],
   "source": [
    "import sys\n",
    "\n",
    "import pandas as pd\n",
    "import seaborn as sns\n",
    "\n",
    "sys.path.append('../src')\n",
    "import raybay\n",
    "from utils import get_util_df, get_percent_diff"
   ]
  },
  {
   "cell_type": "markdown",
   "id": "b369887f",
   "metadata": {},
   "source": [
    "## With 100 Iterations"
   ]
  },
  {
   "cell_type": "code",
   "execution_count": 2,
   "id": "84a6bb54",
   "metadata": {},
   "outputs": [
    {
     "data": {
      "text/html": [
       "<div>\n",
       "<style scoped>\n",
       "    .dataframe tbody tr th:only-of-type {\n",
       "        vertical-align: middle;\n",
       "    }\n",
       "\n",
       "    .dataframe tbody tr th {\n",
       "        vertical-align: top;\n",
       "    }\n",
       "\n",
       "    .dataframe thead tr th {\n",
       "        text-align: left;\n",
       "    }\n",
       "\n",
       "    .dataframe thead tr:last-of-type th {\n",
       "        text-align: right;\n",
       "    }\n",
       "</style>\n",
       "<table border=\"1\" class=\"dataframe\">\n",
       "  <thead>\n",
       "    <tr>\n",
       "      <th></th>\n",
       "      <th colspan=\"8\" halign=\"left\">plan_util</th>\n",
       "    </tr>\n",
       "    <tr>\n",
       "      <th></th>\n",
       "      <th>count</th>\n",
       "      <th>mean</th>\n",
       "      <th>std</th>\n",
       "      <th>min</th>\n",
       "      <th>25%</th>\n",
       "      <th>50%</th>\n",
       "      <th>75%</th>\n",
       "      <th>max</th>\n",
       "    </tr>\n",
       "    <tr>\n",
       "      <th>plan_type</th>\n",
       "      <th></th>\n",
       "      <th></th>\n",
       "      <th></th>\n",
       "      <th></th>\n",
       "      <th></th>\n",
       "      <th></th>\n",
       "      <th></th>\n",
       "      <th></th>\n",
       "    </tr>\n",
       "  </thead>\n",
       "  <tbody>\n",
       "    <tr>\n",
       "      <th>bayes</th>\n",
       "      <td>10.0</td>\n",
       "      <td>412.684219</td>\n",
       "      <td>106.685630</td>\n",
       "      <td>185.052909</td>\n",
       "      <td>355.168655</td>\n",
       "      <td>424.947532</td>\n",
       "      <td>490.793878</td>\n",
       "      <td>537.678328</td>\n",
       "    </tr>\n",
       "    <tr>\n",
       "      <th>clinical</th>\n",
       "      <td>10.0</td>\n",
       "      <td>-769.232355</td>\n",
       "      <td>2803.424147</td>\n",
       "      <td>-8630.470766</td>\n",
       "      <td>-398.060321</td>\n",
       "      <td>273.066535</td>\n",
       "      <td>383.139593</td>\n",
       "      <td>466.324841</td>\n",
       "    </tr>\n",
       "    <tr>\n",
       "      <th>random</th>\n",
       "      <td>10.0</td>\n",
       "      <td>396.072994</td>\n",
       "      <td>115.239690</td>\n",
       "      <td>159.011493</td>\n",
       "      <td>334.429651</td>\n",
       "      <td>425.428612</td>\n",
       "      <td>473.447650</td>\n",
       "      <td>533.831554</td>\n",
       "    </tr>\n",
       "  </tbody>\n",
       "</table>\n",
       "</div>"
      ],
      "text/plain": [
       "          plan_util                                                    \\\n",
       "              count        mean          std          min         25%   \n",
       "plan_type                                                               \n",
       "bayes          10.0  412.684219   106.685630   185.052909  355.168655   \n",
       "clinical       10.0 -769.232355  2803.424147 -8630.470766 -398.060321   \n",
       "random         10.0  396.072994   115.239690   159.011493  334.429651   \n",
       "\n",
       "                                               \n",
       "                  50%         75%         max  \n",
       "plan_type                                      \n",
       "bayes      424.947532  490.793878  537.678328  \n",
       "clinical   273.066535  383.139593  466.324841  \n",
       "random     425.428612  473.447650  533.831554  "
      ]
     },
     "execution_count": 2,
     "metadata": {},
     "output_type": "execute_result"
    }
   ],
   "source": [
    "full_df = pd.concat([get_util_df(plan_type) for plan_type in ['clinical', 'random', 'bayes']])\n",
    "full_df.groupby('plan_type').describe()"
   ]
  },
  {
   "cell_type": "code",
   "execution_count": 3,
   "id": "f358e20e",
   "metadata": {},
   "outputs": [
    {
     "data": {
      "image/png": "[encoded data removed]",
      "text/plain": [
       "<Figure size 432x288 with 1 Axes>"
      ]
     },
     "metadata": {},
     "output_type": "display_data"
    }
   ],
   "source": [
    "ax = sns.boxplot(x='plan_type', y='plan_util', data=full_df)\n",
    "ax.set_ylim([-1050, 610]);"
   ]
  },
  {
   "cell_type": "markdown",
   "id": "73019189",
   "metadata": {},
   "source": [
    "### Compare plan utilities"
   ]
  },
  {
   "cell_type": "code",
   "execution_count": 4,
   "id": "53ad0cb2",
   "metadata": {},
   "outputs": [
    {
     "data": {
      "text/html": [
       "<div>\n",
       "<style scoped>\n",
       "    .dataframe tbody tr th:only-of-type {\n",
       "        vertical-align: middle;\n",
       "    }\n",
       "\n",
       "    .dataframe tbody tr th {\n",
       "        vertical-align: top;\n",
       "    }\n",
       "\n",
       "    .dataframe thead tr th {\n",
       "        text-align: left;\n",
       "    }\n",
       "\n",
       "    .dataframe thead tr:last-of-type th {\n",
       "        text-align: right;\n",
       "    }\n",
       "</style>\n",
       "<table border=\"1\" class=\"dataframe\">\n",
       "  <thead>\n",
       "    <tr>\n",
       "      <th></th>\n",
       "      <th colspan=\"8\" halign=\"left\">percent_diff</th>\n",
       "    </tr>\n",
       "    <tr>\n",
       "      <th></th>\n",
       "      <th>count</th>\n",
       "      <th>mean</th>\n",
       "      <th>std</th>\n",
       "      <th>min</th>\n",
       "      <th>25%</th>\n",
       "      <th>50%</th>\n",
       "      <th>75%</th>\n",
       "      <th>max</th>\n",
       "    </tr>\n",
       "    <tr>\n",
       "      <th>compare_type</th>\n",
       "      <th></th>\n",
       "      <th></th>\n",
       "      <th></th>\n",
       "      <th></th>\n",
       "      <th></th>\n",
       "      <th></th>\n",
       "      <th></th>\n",
       "      <th></th>\n",
       "    </tr>\n",
       "  </thead>\n",
       "  <tbody>\n",
       "    <tr>\n",
       "      <th>bayes2clinical</th>\n",
       "      <td>10.0</td>\n",
       "      <td>50.449900</td>\n",
       "      <td>64.174188</td>\n",
       "      <td>-24.172086</td>\n",
       "      <td>12.183501</td>\n",
       "      <td>21.525633</td>\n",
       "      <td>89.786249</td>\n",
       "      <td>167.482992</td>\n",
       "    </tr>\n",
       "    <tr>\n",
       "      <th>bayes2random</th>\n",
       "      <td>10.0</td>\n",
       "      <td>5.673105</td>\n",
       "      <td>7.630559</td>\n",
       "      <td>-2.500267</td>\n",
       "      <td>2.289448</td>\n",
       "      <td>3.085595</td>\n",
       "      <td>4.827368</td>\n",
       "      <td>22.357366</td>\n",
       "    </tr>\n",
       "    <tr>\n",
       "      <th>random2clinical</th>\n",
       "      <td>10.0</td>\n",
       "      <td>45.158680</td>\n",
       "      <td>67.421217</td>\n",
       "      <td>-34.842906</td>\n",
       "      <td>9.597440</td>\n",
       "      <td>12.770888</td>\n",
       "      <td>85.887661</td>\n",
       "      <td>169.213515</td>\n",
       "    </tr>\n",
       "  </tbody>\n",
       "</table>\n",
       "</div>"
      ],
      "text/plain": [
       "                percent_diff                                              \\\n",
       "                       count       mean        std        min        25%   \n",
       "compare_type                                                               \n",
       "bayes2clinical          10.0  50.449900  64.174188 -24.172086  12.183501   \n",
       "bayes2random            10.0   5.673105   7.630559  -2.500267   2.289448   \n",
       "random2clinical         10.0  45.158680  67.421217 -34.842906   9.597440   \n",
       "\n",
       "                                                   \n",
       "                       50%        75%         max  \n",
       "compare_type                                       \n",
       "bayes2clinical   21.525633  89.786249  167.482992  \n",
       "bayes2random      3.085595   4.827368   22.357366  \n",
       "random2clinical  12.770888  85.887661  169.213515  "
      ]
     },
     "execution_count": 4,
     "metadata": {},
     "output_type": "execute_result"
    }
   ],
   "source": [
    "def get_util_diff(row):\n",
    "    return get_percent_diff(row, 'plan_util_x', 'plan_util_y')\n",
    "\n",
    "def get_compare(plan, ref, stop=False):\n",
    "    df = pd.merge(\n",
    "        get_util_df(plan, stop),\n",
    "        get_util_df(ref, stop),\n",
    "        on='patient')\n",
    "    df['compare_type'] = plan + '2' + ref\n",
    "    df['percent_diff'] = df.apply(get_util_diff, axis=1)\n",
    "    return df[['patient', 'compare_type', 'percent_diff']]\n",
    "\n",
    "pair_list = [['random', 'clinical'], ['bayes', 'clinical'], ['bayes', 'random']]\n",
    "compare_df = pd.concat([get_compare(*pair) for pair in pair_list]).reset_index(drop=True)\n",
    "compare_df.groupby('compare_type').describe()"
   ]
  },
  {
   "cell_type": "code",
   "execution_count": 5,
   "id": "73691344",
   "metadata": {},
   "outputs": [
    {
     "data": {
      "image/png": "[encoded data removed]",
      "text/plain": [
       "<Figure size 432x288 with 1 Axes>"
      ]
     },
     "metadata": {},
     "output_type": "display_data"
    }
   ],
   "source": [
    "sns.boxplot(x='compare_type', y='percent_diff', data=compare_df);"
   ]
  },
  {
   "cell_type": "markdown",
   "id": "1964fc51",
   "metadata": {},
   "source": [
    "## With Stopping Conditions"
   ]
  },
  {
   "cell_type": "code",
   "execution_count": 6,
   "id": "1713faa4",
   "metadata": {},
   "outputs": [
    {
     "data": {
      "text/html": [
       "<div>\n",
       "<style scoped>\n",
       "    .dataframe tbody tr th:only-of-type {\n",
       "        vertical-align: middle;\n",
       "    }\n",
       "\n",
       "    .dataframe tbody tr th {\n",
       "        vertical-align: top;\n",
       "    }\n",
       "\n",
       "    .dataframe thead tr th {\n",
       "        text-align: left;\n",
       "    }\n",
       "\n",
       "    .dataframe thead tr:last-of-type th {\n",
       "        text-align: right;\n",
       "    }\n",
       "</style>\n",
       "<table border=\"1\" class=\"dataframe\">\n",
       "  <thead>\n",
       "    <tr>\n",
       "      <th></th>\n",
       "      <th colspan=\"8\" halign=\"left\">plan_util</th>\n",
       "    </tr>\n",
       "    <tr>\n",
       "      <th></th>\n",
       "      <th>count</th>\n",
       "      <th>mean</th>\n",
       "      <th>std</th>\n",
       "      <th>min</th>\n",
       "      <th>25%</th>\n",
       "      <th>50%</th>\n",
       "      <th>75%</th>\n",
       "      <th>max</th>\n",
       "    </tr>\n",
       "    <tr>\n",
       "      <th>plan_type</th>\n",
       "      <th></th>\n",
       "      <th></th>\n",
       "      <th></th>\n",
       "      <th></th>\n",
       "      <th></th>\n",
       "      <th></th>\n",
       "      <th></th>\n",
       "      <th></th>\n",
       "    </tr>\n",
       "  </thead>\n",
       "  <tbody>\n",
       "    <tr>\n",
       "      <th>bayes</th>\n",
       "      <td>10.0</td>\n",
       "      <td>349.917443</td>\n",
       "      <td>190.221888</td>\n",
       "      <td>-55.831139</td>\n",
       "      <td>327.430313</td>\n",
       "      <td>396.885683</td>\n",
       "      <td>471.837543</td>\n",
       "      <td>533.831554</td>\n",
       "    </tr>\n",
       "    <tr>\n",
       "      <th>clinical</th>\n",
       "      <td>10.0</td>\n",
       "      <td>-769.232355</td>\n",
       "      <td>2803.424147</td>\n",
       "      <td>-8630.470766</td>\n",
       "      <td>-398.060321</td>\n",
       "      <td>273.066535</td>\n",
       "      <td>383.139593</td>\n",
       "      <td>466.324841</td>\n",
       "    </tr>\n",
       "    <tr>\n",
       "      <th>random</th>\n",
       "      <td>10.0</td>\n",
       "      <td>223.748258</td>\n",
       "      <td>453.013900</td>\n",
       "      <td>-939.482752</td>\n",
       "      <td>301.643429</td>\n",
       "      <td>389.435587</td>\n",
       "      <td>457.094320</td>\n",
       "      <td>533.831554</td>\n",
       "    </tr>\n",
       "  </tbody>\n",
       "</table>\n",
       "</div>"
      ],
      "text/plain": [
       "          plan_util                                                    \\\n",
       "              count        mean          std          min         25%   \n",
       "plan_type                                                               \n",
       "bayes          10.0  349.917443   190.221888   -55.831139  327.430313   \n",
       "clinical       10.0 -769.232355  2803.424147 -8630.470766 -398.060321   \n",
       "random         10.0  223.748258   453.013900  -939.482752  301.643429   \n",
       "\n",
       "                                               \n",
       "                  50%         75%         max  \n",
       "plan_type                                      \n",
       "bayes      396.885683  471.837543  533.831554  \n",
       "clinical   273.066535  383.139593  466.324841  \n",
       "random     389.435587  457.094320  533.831554  "
      ]
     },
     "execution_count": 6,
     "metadata": {},
     "output_type": "execute_result"
    }
   ],
   "source": [
    "stop_df = pd.concat([get_util_df(plan_type, stop=True) for plan_type in ['clinical', 'random', 'bayes']])\n",
    "stop_df.groupby('plan_type').describe()"
   ]
  },
  {
   "cell_type": "code",
   "execution_count": 7,
   "id": "79ccdc50",
   "metadata": {},
   "outputs": [
    {
     "data": {
      "image/png": "[encoded data removed]",
      "text/plain": [
       "<Figure size 432x288 with 1 Axes>"
      ]
     },
     "metadata": {},
     "output_type": "display_data"
    }
   ],
   "source": [
    "ax = sns.boxplot(x='plan_type', y='plan_util', data=stop_df)\n",
    "ax.set_ylim([-1050, 600]);"
   ]
  },
  {
   "cell_type": "markdown",
   "id": "1830d7a8",
   "metadata": {},
   "source": [
    "## Compare plan utilities"
   ]
  },
  {
   "cell_type": "code",
   "execution_count": 8,
   "id": "fe5b5cc2",
   "metadata": {},
   "outputs": [
    {
     "data": {
      "text/html": [
       "<div>\n",
       "<style scoped>\n",
       "    .dataframe tbody tr th:only-of-type {\n",
       "        vertical-align: middle;\n",
       "    }\n",
       "\n",
       "    .dataframe tbody tr th {\n",
       "        vertical-align: top;\n",
       "    }\n",
       "\n",
       "    .dataframe thead tr th {\n",
       "        text-align: left;\n",
       "    }\n",
       "\n",
       "    .dataframe thead tr:last-of-type th {\n",
       "        text-align: right;\n",
       "    }\n",
       "</style>\n",
       "<table border=\"1\" class=\"dataframe\">\n",
       "  <thead>\n",
       "    <tr>\n",
       "      <th></th>\n",
       "      <th colspan=\"8\" halign=\"left\">percent_diff</th>\n",
       "    </tr>\n",
       "    <tr>\n",
       "      <th></th>\n",
       "      <th>count</th>\n",
       "      <th>mean</th>\n",
       "      <th>std</th>\n",
       "      <th>min</th>\n",
       "      <th>25%</th>\n",
       "      <th>50%</th>\n",
       "      <th>75%</th>\n",
       "      <th>max</th>\n",
       "    </tr>\n",
       "    <tr>\n",
       "      <th>compare_type</th>\n",
       "      <th></th>\n",
       "      <th></th>\n",
       "      <th></th>\n",
       "      <th></th>\n",
       "      <th></th>\n",
       "      <th></th>\n",
       "      <th></th>\n",
       "      <th></th>\n",
       "    </tr>\n",
       "  </thead>\n",
       "  <tbody>\n",
       "    <tr>\n",
       "      <th>bayes2clinical</th>\n",
       "      <td>10.0</td>\n",
       "      <td>27.060990</td>\n",
       "      <td>88.816857</td>\n",
       "      <td>-122.877559</td>\n",
       "      <td>0.714067</td>\n",
       "      <td>7.543922</td>\n",
       "      <td>86.531774</td>\n",
       "      <td>166.007284</td>\n",
       "    </tr>\n",
       "    <tr>\n",
       "      <th>bayes2random</th>\n",
       "      <td>10.0</td>\n",
       "      <td>29.113189</td>\n",
       "      <td>54.213678</td>\n",
       "      <td>-0.000040</td>\n",
       "      <td>0.073570</td>\n",
       "      <td>2.332877</td>\n",
       "      <td>20.296158</td>\n",
       "      <td>159.391038</td>\n",
       "    </tr>\n",
       "    <tr>\n",
       "      <th>random2clinical</th>\n",
       "      <td>10.0</td>\n",
       "      <td>-21.404713</td>\n",
       "      <td>186.726360</td>\n",
       "      <td>-484.965673</td>\n",
       "      <td>-2.345333</td>\n",
       "      <td>7.383240</td>\n",
       "      <td>84.035134</td>\n",
       "      <td>166.007310</td>\n",
       "    </tr>\n",
       "  </tbody>\n",
       "</table>\n",
       "</div>"
      ],
      "text/plain": [
       "                percent_diff                                               \\\n",
       "                       count       mean         std         min       25%   \n",
       "compare_type                                                                \n",
       "bayes2clinical          10.0  27.060990   88.816857 -122.877559  0.714067   \n",
       "bayes2random            10.0  29.113189   54.213678   -0.000040  0.073570   \n",
       "random2clinical         10.0 -21.404713  186.726360 -484.965673 -2.345333   \n",
       "\n",
       "                                                  \n",
       "                      50%        75%         max  \n",
       "compare_type                                      \n",
       "bayes2clinical   7.543922  86.531774  166.007284  \n",
       "bayes2random     2.332877  20.296158  159.391038  \n",
       "random2clinical  7.383240  84.035134  166.007310  "
      ]
     },
     "execution_count": 8,
     "metadata": {},
     "output_type": "execute_result"
    }
   ],
   "source": [
    "pair_list = [['random', 'clinical'], ['bayes', 'clinical'], ['bayes', 'random']]\n",
    "compare_df = pd.concat([get_compare(*pair, stop=True) for pair in pair_list]).reset_index(drop=True)\n",
    "compare_df.groupby('compare_type').describe()"
   ]
  },
  {
   "cell_type": "code",
   "execution_count": 9,
   "id": "22c88dc0",
   "metadata": {},
   "outputs": [
    {
     "data": {
      "image/png": "[encoded data removed]",
      "text/plain": [
       "<Figure size 432x288 with 1 Axes>"
      ]
     },
     "metadata": {},
     "output_type": "display_data"
    }
   ],
   "source": [
    "ax = sns.boxplot(x='compare_type', y='percent_diff', data=compare_df)\n",
    "ax.set_ylim([-150, 200]);"
   ]
  },
  {
   "cell_type": "markdown",
   "id": "212609af",
   "metadata": {},
   "source": [
    "### Compare to 100 iterations"
   ]
  },
  {
   "cell_type": "code",
   "execution_count": 10,
   "id": "bc560373",
   "metadata": {},
   "outputs": [
    {
     "data": {
      "text/html": [
       "<div>\n",
       "<style scoped>\n",
       "    .dataframe tbody tr th:only-of-type {\n",
       "        vertical-align: middle;\n",
       "    }\n",
       "\n",
       "    .dataframe tbody tr th {\n",
       "        vertical-align: top;\n",
       "    }\n",
       "\n",
       "    .dataframe thead th {\n",
       "        text-align: right;\n",
       "    }\n",
       "</style>\n",
       "<table border=\"1\" class=\"dataframe\">\n",
       "  <thead>\n",
       "    <tr style=\"text-align: right;\">\n",
       "      <th></th>\n",
       "      <th>count</th>\n",
       "      <th>mean</th>\n",
       "      <th>std</th>\n",
       "      <th>min</th>\n",
       "      <th>25%</th>\n",
       "      <th>50%</th>\n",
       "      <th>75%</th>\n",
       "      <th>max</th>\n",
       "    </tr>\n",
       "    <tr>\n",
       "      <th>plan_type</th>\n",
       "      <th></th>\n",
       "      <th></th>\n",
       "      <th></th>\n",
       "      <th></th>\n",
       "      <th></th>\n",
       "      <th></th>\n",
       "      <th></th>\n",
       "      <th></th>\n",
       "    </tr>\n",
       "  </thead>\n",
       "  <tbody>\n",
       "    <tr>\n",
       "      <th>bayes</th>\n",
       "      <td>10.0</td>\n",
       "      <td>-23.361356</td>\n",
       "      <td>43.588153</td>\n",
       "      <td>-130.170366</td>\n",
       "      <td>-9.919642</td>\n",
       "      <td>-3.867651</td>\n",
       "      <td>-1.450736</td>\n",
       "      <td>0.0</td>\n",
       "    </tr>\n",
       "    <tr>\n",
       "      <th>random</th>\n",
       "      <td>10.0</td>\n",
       "      <td>-89.107486</td>\n",
       "      <td>216.594888</td>\n",
       "      <td>-690.826948</td>\n",
       "      <td>-14.567184</td>\n",
       "      <td>-5.307210</td>\n",
       "      <td>-3.146759</td>\n",
       "      <td>0.0</td>\n",
       "    </tr>\n",
       "  </tbody>\n",
       "</table>\n",
       "</div>"
      ],
      "text/plain": [
       "           count       mean         std         min        25%       50%  \\\n",
       "plan_type                                                                  \n",
       "bayes       10.0 -23.361356   43.588153 -130.170366  -9.919642 -3.867651   \n",
       "random      10.0 -89.107486  216.594888 -690.826948 -14.567184 -5.307210   \n",
       "\n",
       "                75%  max  \n",
       "plan_type                 \n",
       "bayes     -1.450736  0.0  \n",
       "random    -3.146759  0.0  "
      ]
     },
     "execution_count": 10,
     "metadata": {},
     "output_type": "execute_result"
    }
   ],
   "source": [
    "def get_util_diff(row):\n",
    "    return get_percent_diff(row, 'plan_util_stop', 'plan_util_full')\n",
    "\n",
    "compare_df = pd.merge(\n",
    "    full_df,\n",
    "    stop_df,\n",
    "    on=['patient', 'plan_type'],\n",
    "    suffixes=['_full', '_stop']\n",
    ")\n",
    "compare_df = compare_df[compare_df['plan_type'].isin(['random', 'bayes'])]\n",
    "compare_df['percent_diff'] = compare_df.apply(get_util_diff, axis=1)\n",
    "compare_df.groupby('plan_type')['percent_diff'].describe()"
   ]
  },
  {
   "cell_type": "code",
   "execution_count": 11,
   "id": "f61bb63c",
   "metadata": {},
   "outputs": [
    {
     "data": {
      "image/png": "[encoded data removed]",
      "text/plain": [
       "<Figure size 432x288 with 1 Axes>"
      ]
     },
     "metadata": {},
     "output_type": "display_data"
    }
   ],
   "source": [
    "ax = sns.boxplot(x='plan_type', y='percent_diff', data=compare_df)\n",
    "ax.set_ylim([-16.5, 1]);"
   ]
  }
 ],
 "metadata": {
  "kernelspec": {
   "display_name": "Python 3",
   "language": "python",
   "name": "python3"
  },
  "language_info": {
   "codemirror_mode": {
    "name": "ipython",
    "version": 3
   },
   "file_extension": ".py",
   "mimetype": "text/x-python",
   "name": "python",
   "nbconvert_exporter": "python",
   "pygments_lexer": "ipython3",
   "version": "3.7.10"
  }
 },
 "nbformat": 4,
 "nbformat_minor": 5
}
