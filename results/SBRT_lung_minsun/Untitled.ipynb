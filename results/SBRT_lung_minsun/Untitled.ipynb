{
 "cells": [
  {
   "cell_type": "code",
   "execution_count": 1,
   "metadata": {},
   "outputs": [],
   "source": [
    "import re\n",
    "import numpy as np\n",
    "import pandas as pd\n",
    "import skopt"
   ]
  },
  {
   "cell_type": "code",
   "execution_count": 2,
   "metadata": {},
   "outputs": [],
   "source": [
    "funcs = pd.read_csv('funcs.csv')"
   ]
  },
  {
   "cell_type": "code",
   "execution_count": 3,
   "metadata": {},
   "outputs": [
    {
     "data": {
      "text/html": [
       "<div>\n",
       "<style scoped>\n",
       "    .dataframe tbody tr th:only-of-type {\n",
       "        vertical-align: middle;\n",
       "    }\n",
       "\n",
       "    .dataframe tbody tr th {\n",
       "        vertical-align: top;\n",
       "    }\n",
       "\n",
       "    .dataframe thead th {\n",
       "        text-align: right;\n",
       "    }\n",
       "</style>\n",
       "<table border=\"1\" class=\"dataframe\">\n",
       "  <thead>\n",
       "    <tr style=\"text-align: right;\">\n",
       "      <th></th>\n",
       "      <th>Roi</th>\n",
       "      <th>FunctionType</th>\n",
       "      <th>DoseLevel</th>\n",
       "      <th>PercentVolume</th>\n",
       "      <th>EudParameterA</th>\n",
       "      <th>Weight</th>\n",
       "    </tr>\n",
       "  </thead>\n",
       "  <tbody>\n",
       "    <tr>\n",
       "      <th>0</th>\n",
       "      <td>Bronchus</td>\n",
       "      <td>MaxDvh</td>\n",
       "      <td>[390,1560]</td>\n",
       "      <td>18.52</td>\n",
       "      <td>NaN</td>\n",
       "      <td>1</td>\n",
       "    </tr>\n",
       "    <tr>\n",
       "      <th>1</th>\n",
       "      <td>Bronchus</td>\n",
       "      <td>MaxDose</td>\n",
       "      <td>[870,3480]</td>\n",
       "      <td>0.00</td>\n",
       "      <td>NaN</td>\n",
       "      <td>1</td>\n",
       "    </tr>\n",
       "    <tr>\n",
       "      <th>2</th>\n",
       "      <td>Chestwall_L</td>\n",
       "      <td>MaxDvh</td>\n",
       "      <td>[750,3000]</td>\n",
       "      <td>2.04</td>\n",
       "      <td>NaN</td>\n",
       "      <td>1</td>\n",
       "    </tr>\n",
       "    <tr>\n",
       "      <th>3</th>\n",
       "      <td>D2cm</td>\n",
       "      <td>MaxDose</td>\n",
       "      <td>[600,2400]</td>\n",
       "      <td>0.00</td>\n",
       "      <td>NaN</td>\n",
       "      <td>1</td>\n",
       "    </tr>\n",
       "    <tr>\n",
       "      <th>4</th>\n",
       "      <td>Esophagus</td>\n",
       "      <td>MaxDvh</td>\n",
       "      <td>[470,1880]</td>\n",
       "      <td>16.91</td>\n",
       "      <td>NaN</td>\n",
       "      <td>1</td>\n",
       "    </tr>\n",
       "    <tr>\n",
       "      <th>5</th>\n",
       "      <td>Esophagus</td>\n",
       "      <td>MaxDose</td>\n",
       "      <td>[750,3000]</td>\n",
       "      <td>0.00</td>\n",
       "      <td>NaN</td>\n",
       "      <td>1</td>\n",
       "    </tr>\n",
       "    <tr>\n",
       "      <th>6</th>\n",
       "      <td>GreatVes</td>\n",
       "      <td>MaxDvh</td>\n",
       "      <td>[1075,4300]</td>\n",
       "      <td>5.66</td>\n",
       "      <td>NaN</td>\n",
       "      <td>1</td>\n",
       "    </tr>\n",
       "    <tr>\n",
       "      <th>7</th>\n",
       "      <td>GreatVes</td>\n",
       "      <td>MaxDose</td>\n",
       "      <td>[1225,4900]</td>\n",
       "      <td>0.00</td>\n",
       "      <td>NaN</td>\n",
       "      <td>1</td>\n",
       "    </tr>\n",
       "    <tr>\n",
       "      <th>8</th>\n",
       "      <td>Heart</td>\n",
       "      <td>MaxDvh</td>\n",
       "      <td>[700,2800]</td>\n",
       "      <td>1.84</td>\n",
       "      <td>NaN</td>\n",
       "      <td>1</td>\n",
       "    </tr>\n",
       "    <tr>\n",
       "      <th>9</th>\n",
       "      <td>Heart</td>\n",
       "      <td>MaxDose</td>\n",
       "      <td>[850,3400]</td>\n",
       "      <td>0.00</td>\n",
       "      <td>NaN</td>\n",
       "      <td>1</td>\n",
       "    </tr>\n",
       "    <tr>\n",
       "      <th>10</th>\n",
       "      <td>Lungs</td>\n",
       "      <td>MaxDvh</td>\n",
       "      <td>[500,2000]</td>\n",
       "      <td>10.00</td>\n",
       "      <td>NaN</td>\n",
       "      <td>1</td>\n",
       "    </tr>\n",
       "    <tr>\n",
       "      <th>11</th>\n",
       "      <td>Lungs</td>\n",
       "      <td>MaxDvh</td>\n",
       "      <td>[290,1160]</td>\n",
       "      <td>29.19</td>\n",
       "      <td>NaN</td>\n",
       "      <td>1</td>\n",
       "    </tr>\n",
       "    <tr>\n",
       "      <th>12</th>\n",
       "      <td>Pericardium</td>\n",
       "      <td>MaxDvh</td>\n",
       "      <td>[700,2800]</td>\n",
       "      <td>3.23</td>\n",
       "      <td>NaN</td>\n",
       "      <td>1</td>\n",
       "    </tr>\n",
       "    <tr>\n",
       "      <th>13</th>\n",
       "      <td>Pericardium</td>\n",
       "      <td>MaxDose</td>\n",
       "      <td>[850,3400]</td>\n",
       "      <td>0.00</td>\n",
       "      <td>NaN</td>\n",
       "      <td>1</td>\n",
       "    </tr>\n",
       "    <tr>\n",
       "      <th>14</th>\n",
       "      <td>PTV</td>\n",
       "      <td>MinDvh</td>\n",
       "      <td>4800</td>\n",
       "      <td>95.00</td>\n",
       "      <td>NaN</td>\n",
       "      <td>1</td>\n",
       "    </tr>\n",
       "    <tr>\n",
       "      <th>15</th>\n",
       "      <td>PTV</td>\n",
       "      <td>MinDvh</td>\n",
       "      <td>4320</td>\n",
       "      <td>99.00</td>\n",
       "      <td>NaN</td>\n",
       "      <td>1</td>\n",
       "    </tr>\n",
       "    <tr>\n",
       "      <th>16</th>\n",
       "      <td>Rib</td>\n",
       "      <td>MaxDvh</td>\n",
       "      <td>[800,3200]</td>\n",
       "      <td>0.27</td>\n",
       "      <td>NaN</td>\n",
       "      <td>1</td>\n",
       "    </tr>\n",
       "    <tr>\n",
       "      <th>17</th>\n",
       "      <td>Rib</td>\n",
       "      <td>MaxDose</td>\n",
       "      <td>[1000,4000]</td>\n",
       "      <td>0.00</td>\n",
       "      <td>NaN</td>\n",
       "      <td>1</td>\n",
       "    </tr>\n",
       "    <tr>\n",
       "      <th>18</th>\n",
       "      <td>Skin</td>\n",
       "      <td>MaxDvh</td>\n",
       "      <td>[830,3320]</td>\n",
       "      <td>0.27</td>\n",
       "      <td>NaN</td>\n",
       "      <td>1</td>\n",
       "    </tr>\n",
       "    <tr>\n",
       "      <th>19</th>\n",
       "      <td>Skin</td>\n",
       "      <td>MaxDose</td>\n",
       "      <td>[900,3600]</td>\n",
       "      <td>0.00</td>\n",
       "      <td>NaN</td>\n",
       "      <td>1</td>\n",
       "    </tr>\n",
       "    <tr>\n",
       "      <th>20</th>\n",
       "      <td>SpinalCanal</td>\n",
       "      <td>MaxDvh</td>\n",
       "      <td>[520,2080]</td>\n",
       "      <td>0.67</td>\n",
       "      <td>NaN</td>\n",
       "      <td>1</td>\n",
       "    </tr>\n",
       "    <tr>\n",
       "      <th>21</th>\n",
       "      <td>Trachea</td>\n",
       "      <td>MaxDvh</td>\n",
       "      <td>[390,1560]</td>\n",
       "      <td>15.21</td>\n",
       "      <td>NaN</td>\n",
       "      <td>1</td>\n",
       "    </tr>\n",
       "    <tr>\n",
       "      <th>22</th>\n",
       "      <td>Trachea</td>\n",
       "      <td>MaxDose</td>\n",
       "      <td>[870,3480]</td>\n",
       "      <td>0.00</td>\n",
       "      <td>NaN</td>\n",
       "      <td>1</td>\n",
       "    </tr>\n",
       "  </tbody>\n",
       "</table>\n",
       "</div>"
      ],
      "text/plain": [
       "            Roi FunctionType    DoseLevel  PercentVolume  EudParameterA  \\\n",
       "0      Bronchus       MaxDvh   [390,1560]          18.52            NaN   \n",
       "1      Bronchus      MaxDose   [870,3480]           0.00            NaN   \n",
       "2   Chestwall_L       MaxDvh   [750,3000]           2.04            NaN   \n",
       "3          D2cm      MaxDose   [600,2400]           0.00            NaN   \n",
       "4     Esophagus       MaxDvh   [470,1880]          16.91            NaN   \n",
       "5     Esophagus      MaxDose   [750,3000]           0.00            NaN   \n",
       "6      GreatVes       MaxDvh  [1075,4300]           5.66            NaN   \n",
       "7      GreatVes      MaxDose  [1225,4900]           0.00            NaN   \n",
       "8         Heart       MaxDvh   [700,2800]           1.84            NaN   \n",
       "9         Heart      MaxDose   [850,3400]           0.00            NaN   \n",
       "10        Lungs       MaxDvh   [500,2000]          10.00            NaN   \n",
       "11        Lungs       MaxDvh   [290,1160]          29.19            NaN   \n",
       "12  Pericardium       MaxDvh   [700,2800]           3.23            NaN   \n",
       "13  Pericardium      MaxDose   [850,3400]           0.00            NaN   \n",
       "14          PTV       MinDvh         4800          95.00            NaN   \n",
       "15          PTV       MinDvh         4320          99.00            NaN   \n",
       "16          Rib       MaxDvh   [800,3200]           0.27            NaN   \n",
       "17          Rib      MaxDose  [1000,4000]           0.00            NaN   \n",
       "18         Skin       MaxDvh   [830,3320]           0.27            NaN   \n",
       "19         Skin      MaxDose   [900,3600]           0.00            NaN   \n",
       "20  SpinalCanal       MaxDvh   [520,2080]           0.67            NaN   \n",
       "21      Trachea       MaxDvh   [390,1560]          15.21            NaN   \n",
       "22      Trachea      MaxDose   [870,3480]           0.00            NaN   \n",
       "\n",
       "    Weight  \n",
       "0        1  \n",
       "1        1  \n",
       "2        1  \n",
       "3        1  \n",
       "4        1  \n",
       "5        1  \n",
       "6        1  \n",
       "7        1  \n",
       "8        1  \n",
       "9        1  \n",
       "10       1  \n",
       "11       1  \n",
       "12       1  \n",
       "13       1  \n",
       "14       1  \n",
       "15       1  \n",
       "16       1  \n",
       "17       1  \n",
       "18       1  \n",
       "19       1  \n",
       "20       1  \n",
       "21       1  \n",
       "22       1  "
      ]
     },
     "execution_count": 3,
     "metadata": {},
     "output_type": "execute_result"
    }
   ],
   "source": [
    "funcs"
   ]
  },
  {
   "cell_type": "code",
   "execution_count": 4,
   "metadata": {},
   "outputs": [],
   "source": [
    "funcs2 = pd.read_csv('funcs.csv').astype(object)"
   ]
  },
  {
   "cell_type": "code",
   "execution_count": 6,
   "metadata": {},
   "outputs": [
    {
     "ename": "AttributeError",
     "evalue": "'DataFrame' object has no attribute 'rows'",
     "output_type": "error",
     "traceback": [
      "\u001b[0;31m---------------------------------------------------------------------------\u001b[0m",
      "\u001b[0;31mAttributeError\u001b[0m                            Traceback (most recent call last)",
      "\u001b[0;32m<ipython-input-6-fae035e0f862>\u001b[0m in \u001b[0;36m<module>\u001b[0;34m\u001b[0m\n\u001b[0;32m----> 1\u001b[0;31m \u001b[0;32mfor\u001b[0m \u001b[0mrow\u001b[0m \u001b[0;32min\u001b[0m \u001b[0mfuncs\u001b[0m\u001b[0;34m.\u001b[0m\u001b[0mrows\u001b[0m\u001b[0;34m:\u001b[0m\u001b[0;34m\u001b[0m\u001b[0;34m\u001b[0m\u001b[0m\n\u001b[0m\u001b[1;32m      2\u001b[0m     \u001b[0mprint\u001b[0m\u001b[0;34m(\u001b[0m\u001b[0mrow\u001b[0m\u001b[0;34m)\u001b[0m\u001b[0;34m\u001b[0m\u001b[0;34m\u001b[0m\u001b[0m\n",
      "\u001b[0;32m~/anaconda3/envs/autoray/lib/python3.7/site-packages/pandas/core/generic.py\u001b[0m in \u001b[0;36m__getattr__\u001b[0;34m(self, name)\u001b[0m\n\u001b[1;32m   5272\u001b[0m             \u001b[0;32mif\u001b[0m \u001b[0mself\u001b[0m\u001b[0;34m.\u001b[0m\u001b[0m_info_axis\u001b[0m\u001b[0;34m.\u001b[0m\u001b[0m_can_hold_identifiers_and_holds_name\u001b[0m\u001b[0;34m(\u001b[0m\u001b[0mname\u001b[0m\u001b[0;34m)\u001b[0m\u001b[0;34m:\u001b[0m\u001b[0;34m\u001b[0m\u001b[0;34m\u001b[0m\u001b[0m\n\u001b[1;32m   5273\u001b[0m                 \u001b[0;32mreturn\u001b[0m \u001b[0mself\u001b[0m\u001b[0;34m[\u001b[0m\u001b[0mname\u001b[0m\u001b[0;34m]\u001b[0m\u001b[0;34m\u001b[0m\u001b[0;34m\u001b[0m\u001b[0m\n\u001b[0;32m-> 5274\u001b[0;31m             \u001b[0;32mreturn\u001b[0m \u001b[0mobject\u001b[0m\u001b[0;34m.\u001b[0m\u001b[0m__getattribute__\u001b[0m\u001b[0;34m(\u001b[0m\u001b[0mself\u001b[0m\u001b[0;34m,\u001b[0m \u001b[0mname\u001b[0m\u001b[0;34m)\u001b[0m\u001b[0;34m\u001b[0m\u001b[0;34m\u001b[0m\u001b[0m\n\u001b[0m\u001b[1;32m   5275\u001b[0m \u001b[0;34m\u001b[0m\u001b[0m\n\u001b[1;32m   5276\u001b[0m     \u001b[0;32mdef\u001b[0m \u001b[0m__setattr__\u001b[0m\u001b[0;34m(\u001b[0m\u001b[0mself\u001b[0m\u001b[0;34m,\u001b[0m \u001b[0mname\u001b[0m\u001b[0;34m:\u001b[0m \u001b[0mstr\u001b[0m\u001b[0;34m,\u001b[0m \u001b[0mvalue\u001b[0m\u001b[0;34m)\u001b[0m \u001b[0;34m->\u001b[0m \u001b[0;32mNone\u001b[0m\u001b[0;34m:\u001b[0m\u001b[0;34m\u001b[0m\u001b[0;34m\u001b[0m\u001b[0m\n",
      "\u001b[0;31mAttributeError\u001b[0m: 'DataFrame' object has no attribute 'rows'"
     ]
    }
   ],
   "source": [
    "for row in funcs.rows:\n",
    "    print(row)"
   ]
  },
  {
   "cell_type": "code",
   "execution_count": 7,
   "metadata": {},
   "outputs": [],
   "source": [
    "# dummy example to see saving results format\n",
    "\n",
    "noise_level = 0.1\n",
    "\n",
    "def f(x, noise_level=noise_level):\n",
    "    return np.sin(5 * x[0]) * (1 - np.tanh(x[0] ** 2))\\\n",
    "           + np.random.randn() * noise_level"
   ]
  },
  {
   "cell_type": "code",
   "execution_count": 9,
   "metadata": {},
   "outputs": [],
   "source": [
    "import matplotlib.pyplot as plt"
   ]
  },
  {
   "cell_type": "code",
   "execution_count": 10,
   "metadata": {},
   "outputs": [
    {
     "data": {
      "image/png": "[encoded data removed]",
      "text/plain": [
       "<Figure size 432x288 with 1 Axes>"
      ]
     },
     "metadata": {
      "needs_background": "light"
     },
     "output_type": "display_data"
    }
   ],
   "source": [
    "# Plot f(x) + contours\n",
    "x = np.linspace(-2, 2, 400).reshape(-1, 1)\n",
    "fx = [f(x_i, noise_level=0.0) for x_i in x]\n",
    "plt.plot(x, fx, \"r--\", label=\"True (unknown)\")\n",
    "plt.fill(np.concatenate([x, x[::-1]]),\n",
    "         np.concatenate(([fx_i - 1.9600 * noise_level for fx_i in fx],\n",
    "                         [fx_i + 1.9600 * noise_level for fx_i in fx[::-1]])),\n",
    "         alpha=.2, fc=\"r\", ec=\"None\")\n",
    "plt.legend()\n",
    "plt.grid()\n",
    "plt.show()"
   ]
  },
  {
   "cell_type": "code",
   "execution_count": 11,
   "metadata": {},
   "outputs": [],
   "source": [
    "from skopt import gp_minimize\n",
    "\n",
    "res = gp_minimize(f,                  # the function to minimize\n",
    "                  [(-2.0, 2.0)],      # the bounds on each dimension of x\n",
    "                  acq_func=\"EI\",      # the acquisition function\n",
    "                  n_calls=15,         # the number of evaluations of f\n",
    "                  n_random_starts=5,  # the number of random initialization points\n",
    "                  noise=0.1**2,       # the noise level (optional)\n",
    "                  random_state=1234)   # the random seed"
   ]
  },
  {
   "cell_type": "code",
   "execution_count": 12,
   "metadata": {},
   "outputs": [
    {
     "data": {
      "text/plain": [
       "'x^*=-0.1248, f(x^*)=-0.6617'"
      ]
     },
     "execution_count": 12,
     "metadata": {},
     "output_type": "execute_result"
    }
   ],
   "source": [
    "\"x^*=%.4f, f(x^*)=%.4f\" % (res.x[0], res.fun)"
   ]
  },
  {
   "cell_type": "code",
   "execution_count": 13,
   "metadata": {},
   "outputs": [
    {
     "name": "stdout",
     "output_type": "stream",
     "text": [
      "          fun: -0.6617493475194893\n",
      "    func_vals: array([-0.02812249,  0.04201645,  0.72570853, -0.23144184, -0.20844531,\n",
      "        0.01147144, -0.22359434, -0.00836083, -0.04080589,  0.06233758,\n",
      "       -0.05192105, -0.66174935, -0.59747956, -0.48846077, -0.40062029])\n",
      "       models: [GaussianProcessRegressor(kernel=1**2 * Matern(length_scale=1, nu=2.5) + WhiteKernel(noise_level=0.01),\n",
      "                         n_restarts_optimizer=2, noise=0.010000000000000002,\n",
      "                         normalize_y=True, random_state=822569775), GaussianProcessRegressor(kernel=1**2 * Matern(length_scale=1, nu=2.5) + WhiteKernel(noise_level=0.01),\n",
      "                         n_restarts_optimizer=2, noise=0.010000000000000002,\n",
      "                         normalize_y=True, random_state=822569775), GaussianProcessRegressor(kernel=1**2 * Matern(length_scale=1, nu=2.5) + WhiteKernel(noise_level=0.01),\n",
      "                         n_restarts_optimizer=2, noise=0.010000000000000002,\n",
      "                         normalize_y=True, random_state=822569775), GaussianProcessRegressor(kernel=1**2 * Matern(length_scale=1, nu=2.5) + WhiteKernel(noise_level=0.01),\n",
      "                         n_restarts_optimizer=2, noise=0.010000000000000002,\n",
      "                         normalize_y=True, random_state=822569775), GaussianProcessRegressor(kernel=1**2 * Matern(length_scale=1, nu=2.5) + WhiteKernel(noise_level=0.01),\n",
      "                         n_restarts_optimizer=2, noise=0.010000000000000002,\n",
      "                         normalize_y=True, random_state=822569775), GaussianProcessRegressor(kernel=1**2 * Matern(length_scale=1, nu=2.5) + WhiteKernel(noise_level=0.01),\n",
      "                         n_restarts_optimizer=2, noise=0.010000000000000002,\n",
      "                         normalize_y=True, random_state=822569775), GaussianProcessRegressor(kernel=1**2 * Matern(length_scale=1, nu=2.5) + WhiteKernel(noise_level=0.01),\n",
      "                         n_restarts_optimizer=2, noise=0.010000000000000002,\n",
      "                         normalize_y=True, random_state=822569775), GaussianProcessRegressor(kernel=1**2 * Matern(length_scale=1, nu=2.5) + WhiteKernel(noise_level=0.01),\n",
      "                         n_restarts_optimizer=2, noise=0.010000000000000002,\n",
      "                         normalize_y=True, random_state=822569775), GaussianProcessRegressor(kernel=1**2 * Matern(length_scale=1, nu=2.5) + WhiteKernel(noise_level=0.01),\n",
      "                         n_restarts_optimizer=2, noise=0.010000000000000002,\n",
      "                         normalize_y=True, random_state=822569775), GaussianProcessRegressor(kernel=1**2 * Matern(length_scale=1, nu=2.5) + WhiteKernel(noise_level=0.01),\n",
      "                         n_restarts_optimizer=2, noise=0.010000000000000002,\n",
      "                         normalize_y=True, random_state=822569775), GaussianProcessRegressor(kernel=1**2 * Matern(length_scale=1, nu=2.5) + WhiteKernel(noise_level=0.01),\n",
      "                         n_restarts_optimizer=2, noise=0.010000000000000002,\n",
      "                         normalize_y=True, random_state=822569775)]\n",
      " random_state: RandomState(MT19937) at 0x11FB395A0\n",
      "        space: Space([Real(low=-2.0, high=2.0, prior='uniform', transform='normalize')])\n",
      "        specs: {'args': {'func': <function f at 0x11f0ec830>, 'dimensions': Space([Real(low=-2.0, high=2.0, prior='uniform', transform='normalize')]), 'base_estimator': GaussianProcessRegressor(kernel=1**2 * Matern(length_scale=1, nu=2.5),\n",
      "                         n_restarts_optimizer=2, noise=0.010000000000000002,\n",
      "                         normalize_y=True, random_state=822569775), 'n_calls': 15, 'n_random_starts': 5, 'acq_func': 'EI', 'acq_optimizer': 'auto', 'x0': None, 'y0': None, 'random_state': RandomState(MT19937) at 0x11FB395A0, 'verbose': False, 'callback': None, 'n_points': 10000, 'n_restarts_optimizer': 5, 'xi': 0.01, 'kappa': 1.96, 'n_jobs': 1, 'model_queue_size': None}, 'function': 'base_minimize'}\n",
      "            x: [-0.12482309346732445]\n",
      "      x_iters: [[-0.009345334109402526], [1.2713537644662787], [0.4484475787090836], [1.0854396754496047], [1.4426790855107496], [1.0785801266213992], [1.108838462921386], [1.0963113132612956], [1.143783964775904], [1.5129094321263459], [1.377789060432041], [-0.12482309346732445], [-0.12491884895979855], [-0.10010180048123818], [-0.12445779396102785]]\n"
     ]
    }
   ],
   "source": [
    "print(res)"
   ]
  },
  {
   "cell_type": "code",
   "execution_count": 14,
   "metadata": {},
   "outputs": [
    {
     "data": {
      "image/png": "[encoded data removed]",
      "text/plain": [
       "<Figure size 432x288 with 1 Axes>"
      ]
     },
     "metadata": {
      "needs_background": "light"
     },
     "output_type": "display_data"
    }
   ],
   "source": [
    "from skopt.plots import plot_convergence\n",
    "plot_convergence(res);"
   ]
  },
  {
   "cell_type": "code",
   "execution_count": 15,
   "metadata": {},
   "outputs": [],
   "source": [
    "np.save('restest.npy', res)"
   ]
  },
  {
   "cell_type": "code",
   "execution_count": 17,
   "metadata": {},
   "outputs": [],
   "source": [
    "k = np.load('restest.npy', allow_pickle=True)"
   ]
  },
  {
   "cell_type": "code",
   "execution_count": 18,
   "metadata": {},
   "outputs": [
    {
     "data": {
      "text/plain": [
       "array(          fun: -0.6617493475194893\n",
       "    func_vals: array([-0.02812249,  0.04201645,  0.72570853, -0.23144184, -0.20844531,\n",
       "        0.01147144, -0.22359434, -0.00836083, -0.04080589,  0.06233758,\n",
       "       -0.05192105, -0.66174935, -0.59747956, -0.48846077, -0.40062029])\n",
       "       models: [GaussianProcessRegressor(kernel=1**2 * Matern(length_scale=1, nu=2.5) + WhiteKernel(noise_level=0.01),\n",
       "                         n_restarts_optimizer=2, noise=0.010000000000000002,\n",
       "                         normalize_y=True, random_state=822569775), GaussianProcessRegressor(kernel=1**2 * Matern(length_scale=1, nu=2.5) + WhiteKernel(noise_level=0.01),\n",
       "                         n_restarts_optimizer=2, noise=0.010000000000000002,\n",
       "                         normalize_y=True, random_state=822569775), GaussianProcessRegressor(kernel=1**2 * Matern(length_scale=1, nu=2.5) + WhiteKernel(noise_level=0.01),\n",
       "                         n_restarts_optimizer=2, noise=0.010000000000000002,\n",
       "                         normalize_y=True, random_state=822569775), GaussianProcessRegressor(kernel=1**2 * Matern(length_scale=1, nu=2.5) + WhiteKernel(noise_level=0.01),\n",
       "                         n_restarts_optimizer=2, noise=0.010000000000000002,\n",
       "                         normalize_y=True, random_state=822569775), GaussianProcessRegressor(kernel=1**2 * Matern(length_scale=1, nu=2.5) + WhiteKernel(noise_level=0.01),\n",
       "                         n_restarts_optimizer=2, noise=0.010000000000000002,\n",
       "                         normalize_y=True, random_state=822569775), GaussianProcessRegressor(kernel=1**2 * Matern(length_scale=1, nu=2.5) + WhiteKernel(noise_level=0.01),\n",
       "                         n_restarts_optimizer=2, noise=0.010000000000000002,\n",
       "                         normalize_y=True, random_state=822569775), GaussianProcessRegressor(kernel=1**2 * Matern(length_scale=1, nu=2.5) + WhiteKernel(noise_level=0.01),\n",
       "                         n_restarts_optimizer=2, noise=0.010000000000000002,\n",
       "                         normalize_y=True, random_state=822569775), GaussianProcessRegressor(kernel=1**2 * Matern(length_scale=1, nu=2.5) + WhiteKernel(noise_level=0.01),\n",
       "                         n_restarts_optimizer=2, noise=0.010000000000000002,\n",
       "                         normalize_y=True, random_state=822569775), GaussianProcessRegressor(kernel=1**2 * Matern(length_scale=1, nu=2.5) + WhiteKernel(noise_level=0.01),\n",
       "                         n_restarts_optimizer=2, noise=0.010000000000000002,\n",
       "                         normalize_y=True, random_state=822569775), GaussianProcessRegressor(kernel=1**2 * Matern(length_scale=1, nu=2.5) + WhiteKernel(noise_level=0.01),\n",
       "                         n_restarts_optimizer=2, noise=0.010000000000000002,\n",
       "                         normalize_y=True, random_state=822569775), GaussianProcessRegressor(kernel=1**2 * Matern(length_scale=1, nu=2.5) + WhiteKernel(noise_level=0.01),\n",
       "                         n_restarts_optimizer=2, noise=0.010000000000000002,\n",
       "                         normalize_y=True, random_state=822569775)]\n",
       " random_state: RandomState(MT19937) at 0x12601F8D0\n",
       "        space: Space([Real(low=-2.0, high=2.0, prior='uniform', transform='normalize')])\n",
       "        specs: {'args': {'func': <function f at 0x11f0ec830>, 'dimensions': Space([Real(low=-2.0, high=2.0, prior='uniform', transform='normalize')]), 'base_estimator': GaussianProcessRegressor(kernel=1**2 * Matern(length_scale=1, nu=2.5),\n",
       "                         n_restarts_optimizer=2, noise=0.010000000000000002,\n",
       "                         normalize_y=True, random_state=822569775), 'n_calls': 15, 'n_random_starts': 5, 'acq_func': 'EI', 'acq_optimizer': 'auto', 'x0': None, 'y0': None, 'random_state': RandomState(MT19937) at 0x12601F8D0, 'verbose': False, 'callback': None, 'n_points': 10000, 'n_restarts_optimizer': 5, 'xi': 0.01, 'kappa': 1.96, 'n_jobs': 1, 'model_queue_size': None}, 'function': 'base_minimize'}\n",
       "            x: [-0.12482309346732445]\n",
       "      x_iters: [[-0.009345334109402526], [1.2713537644662787], [0.4484475787090836], [1.0854396754496047], [1.4426790855107496], [1.0785801266213992], [1.108838462921386], [1.0963113132612956], [1.143783964775904], [1.5129094321263459], [1.377789060432041], [-0.12482309346732445], [-0.12491884895979855], [-0.10010180048123818], [-0.12445779396102785]],\n",
       "      dtype=object)"
      ]
     },
     "execution_count": 18,
     "metadata": {},
     "output_type": "execute_result"
    }
   ],
   "source": [
    "k"
   ]
  },
  {
   "cell_type": "code",
   "execution_count": 28,
   "metadata": {},
   "outputs": [],
   "source": [
    "def change_dict(my_dict):\n",
    "    my_dict['new_key'] = 'new_value'"
   ]
  },
  {
   "cell_type": "code",
   "execution_count": 29,
   "metadata": {},
   "outputs": [],
   "source": [
    "temp_dict = {'old_key': 'old_value'}"
   ]
  },
  {
   "cell_type": "code",
   "execution_count": 30,
   "metadata": {},
   "outputs": [
    {
     "data": {
      "text/plain": [
       "{'old_key': 'old_value'}"
      ]
     },
     "execution_count": 30,
     "metadata": {},
     "output_type": "execute_result"
    }
   ],
   "source": [
    "temp_dict"
   ]
  },
  {
   "cell_type": "code",
   "execution_count": 31,
   "metadata": {},
   "outputs": [],
   "source": [
    "change_dict(temp_dict)"
   ]
  },
  {
   "cell_type": "markdown",
   "metadata": {},
   "source": [
    "temp_dict"
   ]
  },
  {
   "cell_type": "code",
   "execution_count": 32,
   "metadata": {},
   "outputs": [
    {
     "data": {
      "text/plain": [
       "{'old_key': 'old_value', 'new_key': 'new_value'}"
      ]
     },
     "execution_count": 32,
     "metadata": {},
     "output_type": "execute_result"
    }
   ],
   "source": [
    "temp_dict"
   ]
  },
  {
   "cell_type": "code",
   "execution_count": 33,
   "metadata": {},
   "outputs": [],
   "source": [
    "# If I create a lambda function with a dictionary, does the dictionary change each iteration?"
   ]
  },
  {
   "cell_type": "code",
   "execution_count": 159,
   "metadata": {},
   "outputs": [],
   "source": [
    "goals = {'Rib': [], 'Heart': []}"
   ]
  },
  {
   "cell_type": "code",
   "execution_count": 150,
   "metadata": {},
   "outputs": [
    {
     "name": "stdout",
     "output_type": "stream",
     "text": [
      "0 Rib\n",
      "1 Heart\n"
     ]
    }
   ],
   "source": [
    "for index, key in enumerate(goals):\n",
    "    print(index, key)"
   ]
  },
  {
   "cell_type": "code",
   "execution_count": 160,
   "metadata": {},
   "outputs": [],
   "source": [
    "def objective(my_dict, a):\n",
    "    for index, key in enumerate(my_dict):\n",
    "        my_dict[key].append(a[index])"
   ]
  },
  {
   "cell_type": "code",
   "execution_count": 161,
   "metadata": {},
   "outputs": [],
   "source": [
    "obj = lambda a: objective(goals, a)"
   ]
  },
  {
   "cell_type": "code",
   "execution_count": 162,
   "metadata": {},
   "outputs": [],
   "source": [
    "for ii in range(20):\n",
    "    obj([ii, ii*2])"
   ]
  },
  {
   "cell_type": "code",
   "execution_count": 163,
   "metadata": {},
   "outputs": [
    {
     "data": {
      "text/plain": [
       "{'Rib': [0, 1, 2, 3, 4, 5, 6, 7, 8, 9, 10, 11, 12, 13, 14, 15, 16, 17, 18, 19],\n",
       " 'Heart': [0,\n",
       "  2,\n",
       "  4,\n",
       "  6,\n",
       "  8,\n",
       "  10,\n",
       "  12,\n",
       "  14,\n",
       "  16,\n",
       "  18,\n",
       "  20,\n",
       "  22,\n",
       "  24,\n",
       "  26,\n",
       "  28,\n",
       "  30,\n",
       "  32,\n",
       "  34,\n",
       "  36,\n",
       "  38]}"
      ]
     },
     "execution_count": 163,
     "metadata": {},
     "output_type": "execute_result"
    }
   ],
   "source": [
    "goals"
   ]
  },
  {
   "cell_type": "code",
   "execution_count": 164,
   "metadata": {},
   "outputs": [],
   "source": [
    "funcs = pd.read_csv('funcs.csv')"
   ]
  },
  {
   "cell_type": "code",
   "execution_count": 167,
   "metadata": {},
   "outputs": [
    {
     "data": {
      "text/plain": [
       "{'Bronchus',\n",
       " 'Chestwall_L',\n",
       " 'D2cm',\n",
       " 'Esophagus',\n",
       " 'GreatVes',\n",
       " 'Heart',\n",
       " 'Lungs',\n",
       " 'PTV',\n",
       " 'Pericardium',\n",
       " 'Rib',\n",
       " 'Skin',\n",
       " 'SpinalCanal',\n",
       " 'Trachea'}"
      ]
     },
     "execution_count": 167,
     "metadata": {},
     "output_type": "execute_result"
    }
   ],
   "source": [
    "set(funcs['Roi'])"
   ]
  },
  {
   "cell_type": "code",
   "execution_count": 168,
   "metadata": {},
   "outputs": [],
   "source": [
    "goal_dict = {ii: [] for ii in range(len(funcs))}"
   ]
  },
  {
   "cell_type": "code",
   "execution_count": 169,
   "metadata": {},
   "outputs": [
    {
     "data": {
      "text/plain": [
       "{0: [],\n",
       " 1: [],\n",
       " 2: [],\n",
       " 3: [],\n",
       " 4: [],\n",
       " 5: [],\n",
       " 6: [],\n",
       " 7: [],\n",
       " 8: [],\n",
       " 9: [],\n",
       " 10: [],\n",
       " 11: [],\n",
       " 12: [],\n",
       " 13: [],\n",
       " 14: [],\n",
       " 15: [],\n",
       " 16: [],\n",
       " 17: [],\n",
       " 18: [],\n",
       " 19: [],\n",
       " 20: [],\n",
       " 21: [],\n",
       " 22: []}"
      ]
     },
     "execution_count": 169,
     "metadata": {},
     "output_type": "execute_result"
    }
   ],
   "source": [
    "goal_dict"
   ]
  },
  {
   "cell_type": "code",
   "execution_count": 172,
   "metadata": {},
   "outputs": [],
   "source": [
    "goal_dict = np.load('goal_dict.npy', allow_pickle=True)"
   ]
  },
  {
   "cell_type": "code",
   "execution_count": 185,
   "metadata": {},
   "outputs": [
    {
     "data": {
      "text/plain": [
       "{0: [902.9539562360069,\n",
       "  887.0267800488715,\n",
       "  885.723223702955,\n",
       "  885.742573222834,\n",
       "  885.8221795707578],\n",
       " 1: [2083.581298828125,\n",
       "  2062.094970703125,\n",
       "  2060.97509765625,\n",
       "  2060.9970703125,\n",
       "  2061.087158203125],\n",
       " 2: [1773.607101374759,\n",
       "  1753.7093233390606,\n",
       "  1753.8778385711137,\n",
       "  1753.782987440482,\n",
       "  1753.8073465800444],\n",
       " 3: [2677.121826171875,\n",
       "  2701.855712890625,\n",
       "  2706.418701171875,\n",
       "  2706.37548828125,\n",
       "  2706.195556640625],\n",
       " 4: [666.7869344701171,\n",
       "  655.9861409884825,\n",
       "  655.2879657005077,\n",
       "  655.2983124843128,\n",
       "  655.4159818197915],\n",
       " 5: [1101.2125244140625,\n",
       "  1084.6480712890625,\n",
       "  1083.615234375,\n",
       "  1083.63232421875,\n",
       "  1083.701904296875],\n",
       " 6: [1089.6203228648899,\n",
       "  1080.721770345286,\n",
       "  1080.3781958343875,\n",
       "  1080.379761588357,\n",
       "  1080.3991612196194],\n",
       " 7: [1546.90234375,\n",
       "  1542.457275390625,\n",
       "  1542.820556640625,\n",
       "  1542.82275390625,\n",
       "  1542.83056640625],\n",
       " 8: [829.3638071493834,\n",
       "  819.1200064626302,\n",
       "  818.4953487491466,\n",
       "  818.5082882022716,\n",
       "  818.5820119396849],\n",
       " 9: [1411.49169921875,\n",
       "  1389.47705078125,\n",
       "  1388.1431884765625,\n",
       "  1388.1651611328125,\n",
       "  1388.2557373046875],\n",
       " 10: [763.0941049503831,\n",
       "  768.0979445700759,\n",
       "  769.0706432330016,\n",
       "  769.0632151998782,\n",
       "  769.0153205610924],\n",
       " 11: [270.6777893679481,\n",
       "  268.49797541319265,\n",
       "  268.3840343182179,\n",
       "  268.3889945576259,\n",
       "  268.39524782203495],\n",
       " 12: [958.7792389949594,\n",
       "  944.8084715779534,\n",
       "  943.9945437749776,\n",
       "  944.006602401243,\n",
       "  944.0333263175141],\n",
       " 13: [1394.4014892578125,\n",
       "  1377.3466796875,\n",
       "  1376.337646484375,\n",
       "  1376.3555908203125,\n",
       "  1376.4295654296875],\n",
       " 14: [4799.99995912064,\n",
       "  4799.999709450662,\n",
       "  4800.000125637985,\n",
       "  4799.999968100825,\n",
       "  4799.999677550118],\n",
       " 15: [4643.784802410314,\n",
       "  4639.338970630788,\n",
       "  4640.479144388246,\n",
       "  4640.49666534953,\n",
       "  4640.565477932321],\n",
       " 16: [2287.351860528484,\n",
       "  2234.4264664906623,\n",
       "  2233.058136461805,\n",
       "  2233.108917711805,\n",
       "  2233.1083103583906],\n",
       " 17: [2666.605224609375,\n",
       "  2595.119384765625,\n",
       "  2591.1728515625,\n",
       "  2591.231689453125,\n",
       "  2591.476806640625],\n",
       " 18: [828.6661271226669,\n",
       "  835.2311660646692,\n",
       "  836.9210151399453,\n",
       "  836.9087892445527,\n",
       "  836.8101713133706],\n",
       " 19: [1034.45654296875,\n",
       "  1054.143798828125,\n",
       "  1057.0579833984375,\n",
       "  1057.0284423828125,\n",
       "  1056.90380859375],\n",
       " 20: [827.8318124601475,\n",
       "  834.7347051332301,\n",
       "  835.8683033699091,\n",
       "  835.8580494636591,\n",
       "  835.8146752158876],\n",
       " 21: [32.66069659943387,\n",
       "  32.26402897588114,\n",
       "  32.24276724548421,\n",
       "  32.24316617794233,\n",
       "  32.24476682444332],\n",
       " 22: [76.07001495361328,\n",
       "  74.73332214355469,\n",
       "  74.65142822265625,\n",
       "  74.65361785888672,\n",
       "  74.66039276123047]}"
      ]
     },
     "execution_count": 185,
     "metadata": {},
     "output_type": "execute_result"
    }
   ],
   "source": [
    "goal_dict.item()"
   ]
  },
  {
   "cell_type": "code",
   "execution_count": 177,
   "metadata": {},
   "outputs": [
    {
     "ename": "AttributeError",
     "evalue": "'numpy.ndarray' object has no attribute 'keys'",
     "output_type": "error",
     "traceback": [
      "\u001b[0;31m---------------------------------------------------------------------------\u001b[0m",
      "\u001b[0;31mAttributeError\u001b[0m                            Traceback (most recent call last)",
      "\u001b[0;32m<ipython-input-177-6f4bc64dcec9>\u001b[0m in \u001b[0;36m<module>\u001b[0;34m\u001b[0m\n\u001b[0;32m----> 1\u001b[0;31m \u001b[0;32mfor\u001b[0m \u001b[0mii\u001b[0m \u001b[0;32min\u001b[0m \u001b[0mgoal_dict\u001b[0m\u001b[0;34m.\u001b[0m\u001b[0mkeys\u001b[0m\u001b[0;34m(\u001b[0m\u001b[0;34m)\u001b[0m\u001b[0;34m:\u001b[0m\u001b[0;34m\u001b[0m\u001b[0;34m\u001b[0m\u001b[0m\n\u001b[0m\u001b[1;32m      2\u001b[0m     \u001b[0mplt\u001b[0m\u001b[0;34m.\u001b[0m\u001b[0mplot\u001b[0m\u001b[0;34m(\u001b[0m\u001b[0mgoal_dict\u001b[0m\u001b[0;34m[\u001b[0m\u001b[0mii\u001b[0m\u001b[0;34m]\u001b[0m\u001b[0;34m)\u001b[0m\u001b[0;34m\u001b[0m\u001b[0;34m\u001b[0m\u001b[0m\n",
      "\u001b[0;31mAttributeError\u001b[0m: 'numpy.ndarray' object has no attribute 'keys'"
     ]
    }
   ],
   "source": [
    "for ii in goal_dict.keys():\n",
    "    plt.plot(goal_dict[ii])"
   ]
  },
  {
   "cell_type": "code",
   "execution_count": 193,
   "metadata": {},
   "outputs": [],
   "source": [
    "import pickle"
   ]
  },
  {
   "cell_type": "code",
   "execution_count": 198,
   "metadata": {},
   "outputs": [
    {
     "ename": "EOFError",
     "evalue": "Ran out of input",
     "output_type": "error",
     "traceback": [
      "\u001b[0;31m---------------------------------------------------------------------------\u001b[0m",
      "\u001b[0;31mEOFError\u001b[0m                                  Traceback (most recent call last)",
      "\u001b[0;32m<ipython-input-198-a6f6b76c2eee>\u001b[0m in \u001b[0;36m<module>\u001b[0;34m\u001b[0m\n\u001b[0;32m----> 1\u001b[0;31m \u001b[0mpickle\u001b[0m\u001b[0;34m.\u001b[0m\u001b[0mload\u001b[0m\u001b[0;34m(\u001b[0m\u001b[0mopen\u001b[0m\u001b[0;34m(\u001b[0m\u001b[0;34m'models.npy'\u001b[0m\u001b[0;34m,\u001b[0m \u001b[0;34m'rb'\u001b[0m\u001b[0;34m)\u001b[0m\u001b[0;34m)\u001b[0m\u001b[0;34m\u001b[0m\u001b[0;34m\u001b[0m\u001b[0m\n\u001b[0m",
      "\u001b[0;31mEOFError\u001b[0m: Ran out of input"
     ]
    }
   ],
   "source": [
    "pickle.load(open('models.npy', 'rb'))"
   ]
  },
  {
   "cell_type": "code",
   "execution_count": null,
   "metadata": {},
   "outputs": [],
   "source": []
  }
 ],
 "metadata": {
  "kernelspec": {
   "display_name": "Python 3",
   "language": "python",
   "name": "python3"
  },
  "language_info": {
   "codemirror_mode": {
    "name": "ipython",
    "version": 3
   },
   "file_extension": ".py",
   "mimetype": "text/x-python",
   "name": "python",
   "nbconvert_exporter": "python",
   "pygments_lexer": "ipython3",
   "version": "3.7.6"
  }
 },
 "nbformat": 4,
 "nbformat_minor": 4
}
