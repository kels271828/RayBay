{
 "cells": [
  {
   "cell_type": "code",
   "execution_count": 1,
   "metadata": {},
   "outputs": [],
   "source": [
    "import pickle\n",
    "import sys\n",
    "\n",
    "import matplotlib.pyplot as plt\n",
    "import numpy as np\n",
    "import pandas as pd\n",
    "\n",
    "sys.path.append('../../../src')\n",
    "import raybay"
   ]
  },
  {
   "cell_type": "code",
   "execution_count": 3,
   "metadata": {},
   "outputs": [],
   "source": [
    "# Load treatment plan results\n",
    "result = np.load('res_linear_quadratic_gp_minimize.pkl', allow_pickle=True)"
   ]
  },
  {
   "cell_type": "code",
   "execution_count": 4,
   "metadata": {},
   "outputs": [],
   "source": [
    "# Reload goal and function dataframes (doesn't save correctly from remote)\n",
    "result.goal_df = pd.read_csv('../goals_10.csv') \n",
    "result.func_df = pd.read_csv('funcs.csv')\n",
    "pickle.dump(result, open('res_linear_quadratic_gp_minimize.pkl', 'wb'))"
   ]
  },
  {
   "cell_type": "code",
   "execution_count": 5,
   "metadata": {},
   "outputs": [
    {
     "data": {
      "text/html": [
       "<div>\n",
       "<style scoped>\n",
       "    .dataframe tbody tr th:only-of-type {\n",
       "        vertical-align: middle;\n",
       "    }\n",
       "\n",
       "    .dataframe tbody tr th {\n",
       "        vertical-align: top;\n",
       "    }\n",
       "\n",
       "    .dataframe thead th {\n",
       "        text-align: right;\n",
       "    }\n",
       "</style>\n",
       "<table border=\"1\" class=\"dataframe\">\n",
       "  <thead>\n",
       "    <tr style=\"text-align: right;\">\n",
       "      <th></th>\n",
       "      <th>Roi</th>\n",
       "      <th>Type</th>\n",
       "      <th>GoalCriteria</th>\n",
       "      <th>AcceptanceLevel</th>\n",
       "      <th>ParameterValue</th>\n",
       "    </tr>\n",
       "  </thead>\n",
       "  <tbody>\n",
       "    <tr>\n",
       "      <th>0</th>\n",
       "      <td>Chestwall_L</td>\n",
       "      <td>MaxDvh</td>\n",
       "      <td>AtMost</td>\n",
       "      <td>3000</td>\n",
       "      <td>2.04</td>\n",
       "    </tr>\n",
       "    <tr>\n",
       "      <th>1</th>\n",
       "      <td>D2cm</td>\n",
       "      <td>MaxDose</td>\n",
       "      <td>AtMost</td>\n",
       "      <td>2400</td>\n",
       "      <td>NaN</td>\n",
       "    </tr>\n",
       "    <tr>\n",
       "      <th>2</th>\n",
       "      <td>Esophagus</td>\n",
       "      <td>MaxDvh</td>\n",
       "      <td>AtMost</td>\n",
       "      <td>1880</td>\n",
       "      <td>16.91</td>\n",
       "    </tr>\n",
       "    <tr>\n",
       "      <th>3</th>\n",
       "      <td>Lungs</td>\n",
       "      <td>MaxDvh</td>\n",
       "      <td>AtMost</td>\n",
       "      <td>1160</td>\n",
       "      <td>29.19</td>\n",
       "    </tr>\n",
       "    <tr>\n",
       "      <th>4</th>\n",
       "      <td>Lungs</td>\n",
       "      <td>MaxDvh</td>\n",
       "      <td>AtMost</td>\n",
       "      <td>1240</td>\n",
       "      <td>19.46</td>\n",
       "    </tr>\n",
       "    <tr>\n",
       "      <th>5</th>\n",
       "      <td>PTV</td>\n",
       "      <td>MinDvh</td>\n",
       "      <td>AtLeast</td>\n",
       "      <td>4800</td>\n",
       "      <td>95.00</td>\n",
       "    </tr>\n",
       "    <tr>\n",
       "      <th>6</th>\n",
       "      <td>PTV</td>\n",
       "      <td>MaxDose</td>\n",
       "      <td>AtMost</td>\n",
       "      <td>8000</td>\n",
       "      <td>NaN</td>\n",
       "    </tr>\n",
       "    <tr>\n",
       "      <th>7</th>\n",
       "      <td>Rib</td>\n",
       "      <td>MaxDvh</td>\n",
       "      <td>AtMost</td>\n",
       "      <td>3200</td>\n",
       "      <td>0.27</td>\n",
       "    </tr>\n",
       "    <tr>\n",
       "      <th>8</th>\n",
       "      <td>Rib</td>\n",
       "      <td>MaxDose</td>\n",
       "      <td>AtMost</td>\n",
       "      <td>4000</td>\n",
       "      <td>NaN</td>\n",
       "    </tr>\n",
       "    <tr>\n",
       "      <th>9</th>\n",
       "      <td>SpinalCanal</td>\n",
       "      <td>MaxDvh</td>\n",
       "      <td>AtMost</td>\n",
       "      <td>1360</td>\n",
       "      <td>2.30</td>\n",
       "    </tr>\n",
       "    <tr>\n",
       "      <th>10</th>\n",
       "      <td>SpinalCanal</td>\n",
       "      <td>MaxDose</td>\n",
       "      <td>AtMost</td>\n",
       "      <td>2600</td>\n",
       "      <td>NaN</td>\n",
       "    </tr>\n",
       "  </tbody>\n",
       "</table>\n",
       "</div>"
      ],
      "text/plain": [
       "            Roi     Type GoalCriteria  AcceptanceLevel  ParameterValue\n",
       "0   Chestwall_L   MaxDvh       AtMost             3000            2.04\n",
       "1          D2cm  MaxDose       AtMost             2400             NaN\n",
       "2     Esophagus   MaxDvh       AtMost             1880           16.91\n",
       "3         Lungs   MaxDvh       AtMost             1160           29.19\n",
       "4         Lungs   MaxDvh       AtMost             1240           19.46\n",
       "5           PTV   MinDvh      AtLeast             4800           95.00\n",
       "6           PTV  MaxDose       AtMost             8000             NaN\n",
       "7           Rib   MaxDvh       AtMost             3200            0.27\n",
       "8           Rib  MaxDose       AtMost             4000             NaN\n",
       "9   SpinalCanal   MaxDvh       AtMost             1360            2.30\n",
       "10  SpinalCanal  MaxDose       AtMost             2600             NaN"
      ]
     },
     "execution_count": 5,
     "metadata": {},
     "output_type": "execute_result"
    }
   ],
   "source": [
    "# Clinical goals\n",
    "result.goal_df"
   ]
  },
  {
   "cell_type": "code",
   "execution_count": 6,
   "metadata": {},
   "outputs": [
    {
     "data": {
      "text/html": [
       "<div>\n",
       "<style scoped>\n",
       "    .dataframe tbody tr th:only-of-type {\n",
       "        vertical-align: middle;\n",
       "    }\n",
       "\n",
       "    .dataframe tbody tr th {\n",
       "        vertical-align: top;\n",
       "    }\n",
       "\n",
       "    .dataframe thead th {\n",
       "        text-align: right;\n",
       "    }\n",
       "</style>\n",
       "<table border=\"1\" class=\"dataframe\">\n",
       "  <thead>\n",
       "    <tr style=\"text-align: right;\">\n",
       "      <th></th>\n",
       "      <th>Roi</th>\n",
       "      <th>FunctionType</th>\n",
       "      <th>DoseLevel</th>\n",
       "      <th>PercentVolume</th>\n",
       "      <th>EudParameterA</th>\n",
       "      <th>Weight</th>\n",
       "    </tr>\n",
       "  </thead>\n",
       "  <tbody>\n",
       "    <tr>\n",
       "      <th>0</th>\n",
       "      <td>Chestwall_L</td>\n",
       "      <td>MaxDvh</td>\n",
       "      <td>3000</td>\n",
       "      <td>2.04</td>\n",
       "      <td>NaN</td>\n",
       "      <td>1</td>\n",
       "    </tr>\n",
       "    <tr>\n",
       "      <th>1</th>\n",
       "      <td>D2cm</td>\n",
       "      <td>MaxDose</td>\n",
       "      <td>[0,2400]</td>\n",
       "      <td>0.00</td>\n",
       "      <td>NaN</td>\n",
       "      <td>1</td>\n",
       "    </tr>\n",
       "    <tr>\n",
       "      <th>2</th>\n",
       "      <td>Esophagus</td>\n",
       "      <td>MaxDvh</td>\n",
       "      <td>1880</td>\n",
       "      <td>16.91</td>\n",
       "      <td>NaN</td>\n",
       "      <td>1</td>\n",
       "    </tr>\n",
       "    <tr>\n",
       "      <th>3</th>\n",
       "      <td>Lungs</td>\n",
       "      <td>MaxDvh</td>\n",
       "      <td>1160</td>\n",
       "      <td>29.19</td>\n",
       "      <td>NaN</td>\n",
       "      <td>1</td>\n",
       "    </tr>\n",
       "    <tr>\n",
       "      <th>4</th>\n",
       "      <td>Lungs</td>\n",
       "      <td>MaxDvh</td>\n",
       "      <td>1240</td>\n",
       "      <td>19.46</td>\n",
       "      <td>NaN</td>\n",
       "      <td>1</td>\n",
       "    </tr>\n",
       "    <tr>\n",
       "      <th>5</th>\n",
       "      <td>PTV</td>\n",
       "      <td>MinDvh</td>\n",
       "      <td>4800</td>\n",
       "      <td>95.00</td>\n",
       "      <td>NaN</td>\n",
       "      <td>1</td>\n",
       "    </tr>\n",
       "    <tr>\n",
       "      <th>6</th>\n",
       "      <td>PTV</td>\n",
       "      <td>MaxDose</td>\n",
       "      <td>8000</td>\n",
       "      <td>0.00</td>\n",
       "      <td>NaN</td>\n",
       "      <td>1</td>\n",
       "    </tr>\n",
       "    <tr>\n",
       "      <th>7</th>\n",
       "      <td>Rib</td>\n",
       "      <td>MaxDvh</td>\n",
       "      <td>3200</td>\n",
       "      <td>0.27</td>\n",
       "      <td>NaN</td>\n",
       "      <td>1</td>\n",
       "    </tr>\n",
       "    <tr>\n",
       "      <th>8</th>\n",
       "      <td>Rib</td>\n",
       "      <td>MaxDose</td>\n",
       "      <td>[0,4000]</td>\n",
       "      <td>0.00</td>\n",
       "      <td>NaN</td>\n",
       "      <td>1</td>\n",
       "    </tr>\n",
       "    <tr>\n",
       "      <th>9</th>\n",
       "      <td>SpinalCanal</td>\n",
       "      <td>MaxDvh</td>\n",
       "      <td>1360</td>\n",
       "      <td>2.30</td>\n",
       "      <td>NaN</td>\n",
       "      <td>1</td>\n",
       "    </tr>\n",
       "    <tr>\n",
       "      <th>10</th>\n",
       "      <td>SpinalCanal</td>\n",
       "      <td>MaxDose</td>\n",
       "      <td>2600</td>\n",
       "      <td>0.00</td>\n",
       "      <td>NaN</td>\n",
       "      <td>1</td>\n",
       "    </tr>\n",
       "  </tbody>\n",
       "</table>\n",
       "</div>"
      ],
      "text/plain": [
       "            Roi FunctionType DoseLevel  PercentVolume  EudParameterA  Weight\n",
       "0   Chestwall_L       MaxDvh      3000           2.04            NaN       1\n",
       "1          D2cm      MaxDose  [0,2400]           0.00            NaN       1\n",
       "2     Esophagus       MaxDvh      1880          16.91            NaN       1\n",
       "3         Lungs       MaxDvh      1160          29.19            NaN       1\n",
       "4         Lungs       MaxDvh      1240          19.46            NaN       1\n",
       "5           PTV       MinDvh      4800          95.00            NaN       1\n",
       "6           PTV      MaxDose      8000           0.00            NaN       1\n",
       "7           Rib       MaxDvh      3200           0.27            NaN       1\n",
       "8           Rib      MaxDose  [0,4000]           0.00            NaN       1\n",
       "9   SpinalCanal       MaxDvh      1360           2.30            NaN       1\n",
       "10  SpinalCanal      MaxDose      2600           0.00            NaN       1"
      ]
     },
     "execution_count": 6,
     "metadata": {},
     "output_type": "execute_result"
    }
   ],
   "source": [
    "# Constituent functions\n",
    "result.func_df"
   ]
  },
  {
   "cell_type": "code",
   "execution_count": 7,
   "metadata": {},
   "outputs": [
    {
     "data": {
      "text/html": [
       "<div>\n",
       "<style scoped>\n",
       "    .dataframe tbody tr th:only-of-type {\n",
       "        vertical-align: middle;\n",
       "    }\n",
       "\n",
       "    .dataframe tbody tr th {\n",
       "        vertical-align: top;\n",
       "    }\n",
       "\n",
       "    .dataframe thead th {\n",
       "        text-align: right;\n",
       "    }\n",
       "</style>\n",
       "<table border=\"1\" class=\"dataframe\">\n",
       "  <thead>\n",
       "    <tr style=\"text-align: right;\">\n",
       "      <th></th>\n",
       "      <th>Roi</th>\n",
       "      <th>Type</th>\n",
       "      <th>AcceptanceLevel</th>\n",
       "      <th>GoalValue</th>\n",
       "      <th>PercentChange</th>\n",
       "    </tr>\n",
       "  </thead>\n",
       "  <tbody>\n",
       "    <tr>\n",
       "      <th>0</th>\n",
       "      <td>Chestwall_L</td>\n",
       "      <td>MaxDvh</td>\n",
       "      <td>3000.0</td>\n",
       "      <td>1615.686529</td>\n",
       "      <td>-46.143782</td>\n",
       "    </tr>\n",
       "    <tr>\n",
       "      <th>1</th>\n",
       "      <td>D2cm</td>\n",
       "      <td>MaxDose</td>\n",
       "      <td>2400.0</td>\n",
       "      <td>2419.716064</td>\n",
       "      <td>0.821503</td>\n",
       "    </tr>\n",
       "    <tr>\n",
       "      <th>2</th>\n",
       "      <td>Esophagus</td>\n",
       "      <td>MaxDvh</td>\n",
       "      <td>1880.0</td>\n",
       "      <td>604.229145</td>\n",
       "      <td>-67.860152</td>\n",
       "    </tr>\n",
       "    <tr>\n",
       "      <th>3</th>\n",
       "      <td>Lungs</td>\n",
       "      <td>MaxDvh</td>\n",
       "      <td>1160.0</td>\n",
       "      <td>245.716405</td>\n",
       "      <td>-78.817551</td>\n",
       "    </tr>\n",
       "    <tr>\n",
       "      <th>4</th>\n",
       "      <td>Lungs</td>\n",
       "      <td>MaxDvh</td>\n",
       "      <td>1240.0</td>\n",
       "      <td>402.930732</td>\n",
       "      <td>-67.505586</td>\n",
       "    </tr>\n",
       "    <tr>\n",
       "      <th>5</th>\n",
       "      <td>PTV</td>\n",
       "      <td>MinDvh</td>\n",
       "      <td>4800.0</td>\n",
       "      <td>4799.999914</td>\n",
       "      <td>-0.000002</td>\n",
       "    </tr>\n",
       "    <tr>\n",
       "      <th>6</th>\n",
       "      <td>PTV</td>\n",
       "      <td>MaxDose</td>\n",
       "      <td>8000.0</td>\n",
       "      <td>6897.578125</td>\n",
       "      <td>-13.780273</td>\n",
       "    </tr>\n",
       "    <tr>\n",
       "      <th>7</th>\n",
       "      <td>Rib</td>\n",
       "      <td>MaxDvh</td>\n",
       "      <td>3200.0</td>\n",
       "      <td>2093.415677</td>\n",
       "      <td>-34.580760</td>\n",
       "    </tr>\n",
       "    <tr>\n",
       "      <th>8</th>\n",
       "      <td>Rib</td>\n",
       "      <td>MaxDose</td>\n",
       "      <td>4000.0</td>\n",
       "      <td>2410.192383</td>\n",
       "      <td>-39.745190</td>\n",
       "    </tr>\n",
       "    <tr>\n",
       "      <th>9</th>\n",
       "      <td>SpinalCanal</td>\n",
       "      <td>MaxDvh</td>\n",
       "      <td>1360.0</td>\n",
       "      <td>873.443069</td>\n",
       "      <td>-35.776245</td>\n",
       "    </tr>\n",
       "    <tr>\n",
       "      <th>10</th>\n",
       "      <td>SpinalCanal</td>\n",
       "      <td>MaxDose</td>\n",
       "      <td>2600.0</td>\n",
       "      <td>994.970215</td>\n",
       "      <td>-61.731915</td>\n",
       "    </tr>\n",
       "  </tbody>\n",
       "</table>\n",
       "</div>"
      ],
      "text/plain": [
       "            Roi     Type  AcceptanceLevel    GoalValue  PercentChange\n",
       "0   Chestwall_L   MaxDvh           3000.0  1615.686529     -46.143782\n",
       "1          D2cm  MaxDose           2400.0  2419.716064       0.821503\n",
       "2     Esophagus   MaxDvh           1880.0   604.229145     -67.860152\n",
       "3         Lungs   MaxDvh           1160.0   245.716405     -78.817551\n",
       "4         Lungs   MaxDvh           1240.0   402.930732     -67.505586\n",
       "5           PTV   MinDvh           4800.0  4799.999914      -0.000002\n",
       "6           PTV  MaxDose           8000.0  6897.578125     -13.780273\n",
       "7           Rib   MaxDvh           3200.0  2093.415677     -34.580760\n",
       "8           Rib  MaxDose           4000.0  2410.192383     -39.745190\n",
       "9   SpinalCanal   MaxDvh           1360.0   873.443069     -35.776245\n",
       "10  SpinalCanal  MaxDose           2600.0   994.970215     -61.731915"
      ]
     },
     "execution_count": 7,
     "metadata": {},
     "output_type": "execute_result"
    }
   ],
   "source": [
    "# Clinical goal results\n",
    "compare = pd.DataFrame()\n",
    "for index, row in result.goal_df.iterrows():\n",
    "    roi = row['Roi']\n",
    "    goal_type = row['Type']\n",
    "    level = row['AcceptanceLevel']\n",
    "    value = result.goal_dict[index][0]\n",
    "    percent = 100*(value - level)/level\n",
    "    compare = compare.append({'Roi': roi, 'Type': goal_type, 'AcceptanceLevel': level, \n",
    "                              'GoalValue': value, 'PercentChange': percent}, ignore_index=True)\n",
    "compare = compare[['Roi', 'Type', 'AcceptanceLevel', 'GoalValue', 'PercentChange']] # enforce column order\n",
    "compare"
   ]
  },
  {
   "cell_type": "code",
   "execution_count": 8,
   "metadata": {},
   "outputs": [
    {
     "data": {
      "image/png": "[encoded data removed]",
      "text/plain": [
       "<Figure size 432x288 with 1 Axes>"
      ]
     },
     "metadata": {},
     "output_type": "display_data"
    }
   ],
   "source": [
    "# Dose-volume histograms\n",
    "result.dvhplot()"
   ]
  },
  {
   "cell_type": "code",
   "execution_count": 9,
   "metadata": {},
   "outputs": [
    {
     "name": "stdout",
     "output_type": "stream",
     "text": [
      "Linear: 445.12, Linear-Quadratic: 444.45\n"
     ]
    }
   ],
   "source": [
    "# Utility function values\n",
    "lin = result.get_utility('linear')[0]\n",
    "lin_quad = result.get_utility('linear_quadratic')[0]\n",
    "print(f\"Linear: {lin:.2f}, Linear-Quadratic: {lin_quad:.2f}\")"
   ]
  },
  {
   "cell_type": "code",
   "execution_count": 27,
   "metadata": {},
   "outputs": [
    {
     "ename": "TypeError",
     "evalue": "'str' object cannot be interpreted as an integer",
     "output_type": "error",
     "traceback": [
      "\u001b[0;31m---------------------------------------------------------------------------\u001b[0m",
      "\u001b[0;31mTypeError\u001b[0m                                 Traceback (most recent call last)",
      "\u001b[0;32m~/anaconda3/envs/autoray/lib/python3.7/site-packages/numpy/core/fromnumeric.py\u001b[0m in \u001b[0;36m_wrapfunc\u001b[0;34m(obj, method, *args, **kwds)\u001b[0m\n\u001b[1;32m     60\u001b[0m     \u001b[0;32mtry\u001b[0m\u001b[0;34m:\u001b[0m\u001b[0;34m\u001b[0m\u001b[0;34m\u001b[0m\u001b[0m\n\u001b[0;32m---> 61\u001b[0;31m         \u001b[0;32mreturn\u001b[0m \u001b[0mbound\u001b[0m\u001b[0;34m(\u001b[0m\u001b[0;34m*\u001b[0m\u001b[0margs\u001b[0m\u001b[0;34m,\u001b[0m \u001b[0;34m**\u001b[0m\u001b[0mkwds\u001b[0m\u001b[0;34m)\u001b[0m\u001b[0;34m\u001b[0m\u001b[0;34m\u001b[0m\u001b[0m\n\u001b[0m\u001b[1;32m     62\u001b[0m     \u001b[0;32mexcept\u001b[0m \u001b[0mTypeError\u001b[0m\u001b[0;34m:\u001b[0m\u001b[0;34m\u001b[0m\u001b[0;34m\u001b[0m\u001b[0m\n",
      "\u001b[0;31mTypeError\u001b[0m: 'str' object cannot be interpreted as an integer",
      "\nDuring handling of the above exception, another exception occurred:\n",
      "\u001b[0;31mTypeError\u001b[0m                                 Traceback (most recent call last)",
      "\u001b[0;32m<ipython-input-27-4572e9975092>\u001b[0m in \u001b[0;36m<module>\u001b[0;34m\u001b[0m\n\u001b[1;32m      1\u001b[0m \u001b[0;31m# Convergence\u001b[0m\u001b[0;34m\u001b[0m\u001b[0;34m\u001b[0m\u001b[0;34m\u001b[0m\u001b[0m\n\u001b[0;32m----> 2\u001b[0;31m \u001b[0midx_sol\u001b[0m \u001b[0;34m=\u001b[0m \u001b[0mnp\u001b[0m\u001b[0;34m.\u001b[0m\u001b[0margmin\u001b[0m\u001b[0;34m(\u001b[0m\u001b[0mresult\u001b[0m\u001b[0;34m.\u001b[0m\u001b[0mopt_result\u001b[0m\u001b[0;34m.\u001b[0m\u001b[0mfunc_vals\u001b[0m\u001b[0;34m,\u001b[0m \u001b[0;34m'.'\u001b[0m\u001b[0;34m)\u001b[0m\u001b[0;34m\u001b[0m\u001b[0;34m\u001b[0m\u001b[0m\n\u001b[0m\u001b[1;32m      3\u001b[0m \u001b[0mplt\u001b[0m\u001b[0;34m.\u001b[0m\u001b[0mplot\u001b[0m\u001b[0;34m(\u001b[0m\u001b[0mresult\u001b[0m\u001b[0;34m.\u001b[0m\u001b[0mopt_result\u001b[0m\u001b[0;34m.\u001b[0m\u001b[0mfunc_vals\u001b[0m\u001b[0;34m)\u001b[0m\u001b[0;34m\u001b[0m\u001b[0;34m\u001b[0m\u001b[0m\n\u001b[1;32m      4\u001b[0m \u001b[0mplt\u001b[0m\u001b[0;34m.\u001b[0m\u001b[0mplot\u001b[0m\u001b[0;34m(\u001b[0m\u001b[0mnp\u001b[0m\u001b[0;34m.\u001b[0m\u001b[0mminimum\u001b[0m\u001b[0;34m.\u001b[0m\u001b[0maccumulate\u001b[0m\u001b[0;34m(\u001b[0m\u001b[0mresult\u001b[0m\u001b[0;34m.\u001b[0m\u001b[0mopt_result\u001b[0m\u001b[0;34m.\u001b[0m\u001b[0mfunc_vals\u001b[0m\u001b[0;34m)\u001b[0m\u001b[0;34m)\u001b[0m\u001b[0;34m\u001b[0m\u001b[0;34m\u001b[0m\u001b[0m\n\u001b[1;32m      5\u001b[0m \u001b[0mplt\u001b[0m\u001b[0;34m.\u001b[0m\u001b[0mplot\u001b[0m\u001b[0;34m(\u001b[0m\u001b[0midx_sol\u001b[0m\u001b[0;34m,\u001b[0m \u001b[0mresult\u001b[0m\u001b[0;34m.\u001b[0m\u001b[0mopt_result\u001b[0m\u001b[0;34m.\u001b[0m\u001b[0mfun\u001b[0m\u001b[0;34m,\u001b[0m \u001b[0;34m'.'\u001b[0m\u001b[0;34m)\u001b[0m\u001b[0;34m\u001b[0m\u001b[0;34m\u001b[0m\u001b[0m\n",
      "\u001b[0;32m<__array_function__ internals>\u001b[0m in \u001b[0;36margmin\u001b[0;34m(*args, **kwargs)\u001b[0m\n",
      "\u001b[0;32m~/anaconda3/envs/autoray/lib/python3.7/site-packages/numpy/core/fromnumeric.py\u001b[0m in \u001b[0;36margmin\u001b[0;34m(a, axis, out)\u001b[0m\n\u001b[1;32m   1265\u001b[0m \u001b[0;34m\u001b[0m\u001b[0m\n\u001b[1;32m   1266\u001b[0m     \"\"\"\n\u001b[0;32m-> 1267\u001b[0;31m     \u001b[0;32mreturn\u001b[0m \u001b[0m_wrapfunc\u001b[0m\u001b[0;34m(\u001b[0m\u001b[0ma\u001b[0m\u001b[0;34m,\u001b[0m \u001b[0;34m'argmin'\u001b[0m\u001b[0;34m,\u001b[0m \u001b[0maxis\u001b[0m\u001b[0;34m=\u001b[0m\u001b[0maxis\u001b[0m\u001b[0;34m,\u001b[0m \u001b[0mout\u001b[0m\u001b[0;34m=\u001b[0m\u001b[0mout\u001b[0m\u001b[0;34m)\u001b[0m\u001b[0;34m\u001b[0m\u001b[0;34m\u001b[0m\u001b[0m\n\u001b[0m\u001b[1;32m   1268\u001b[0m \u001b[0;34m\u001b[0m\u001b[0m\n\u001b[1;32m   1269\u001b[0m \u001b[0;34m\u001b[0m\u001b[0m\n",
      "\u001b[0;32m~/anaconda3/envs/autoray/lib/python3.7/site-packages/numpy/core/fromnumeric.py\u001b[0m in \u001b[0;36m_wrapfunc\u001b[0;34m(obj, method, *args, **kwds)\u001b[0m\n\u001b[1;32m     68\u001b[0m         \u001b[0;31m# Call _wrapit from within the except clause to ensure a potential\u001b[0m\u001b[0;34m\u001b[0m\u001b[0;34m\u001b[0m\u001b[0;34m\u001b[0m\u001b[0m\n\u001b[1;32m     69\u001b[0m         \u001b[0;31m# exception has a traceback chain.\u001b[0m\u001b[0;34m\u001b[0m\u001b[0;34m\u001b[0m\u001b[0;34m\u001b[0m\u001b[0m\n\u001b[0;32m---> 70\u001b[0;31m         \u001b[0;32mreturn\u001b[0m \u001b[0m_wrapit\u001b[0m\u001b[0;34m(\u001b[0m\u001b[0mobj\u001b[0m\u001b[0;34m,\u001b[0m \u001b[0mmethod\u001b[0m\u001b[0;34m,\u001b[0m \u001b[0;34m*\u001b[0m\u001b[0margs\u001b[0m\u001b[0;34m,\u001b[0m \u001b[0;34m**\u001b[0m\u001b[0mkwds\u001b[0m\u001b[0;34m)\u001b[0m\u001b[0;34m\u001b[0m\u001b[0;34m\u001b[0m\u001b[0m\n\u001b[0m\u001b[1;32m     71\u001b[0m \u001b[0;34m\u001b[0m\u001b[0m\n\u001b[1;32m     72\u001b[0m \u001b[0;34m\u001b[0m\u001b[0m\n",
      "\u001b[0;32m~/anaconda3/envs/autoray/lib/python3.7/site-packages/numpy/core/fromnumeric.py\u001b[0m in \u001b[0;36m_wrapit\u001b[0;34m(obj, method, *args, **kwds)\u001b[0m\n\u001b[1;32m     45\u001b[0m     \u001b[0;32mexcept\u001b[0m \u001b[0mAttributeError\u001b[0m\u001b[0;34m:\u001b[0m\u001b[0;34m\u001b[0m\u001b[0;34m\u001b[0m\u001b[0m\n\u001b[1;32m     46\u001b[0m         \u001b[0mwrap\u001b[0m \u001b[0;34m=\u001b[0m \u001b[0;32mNone\u001b[0m\u001b[0;34m\u001b[0m\u001b[0;34m\u001b[0m\u001b[0m\n\u001b[0;32m---> 47\u001b[0;31m     \u001b[0mresult\u001b[0m \u001b[0;34m=\u001b[0m \u001b[0mgetattr\u001b[0m\u001b[0;34m(\u001b[0m\u001b[0masarray\u001b[0m\u001b[0;34m(\u001b[0m\u001b[0mobj\u001b[0m\u001b[0;34m)\u001b[0m\u001b[0;34m,\u001b[0m \u001b[0mmethod\u001b[0m\u001b[0;34m)\u001b[0m\u001b[0;34m(\u001b[0m\u001b[0;34m*\u001b[0m\u001b[0margs\u001b[0m\u001b[0;34m,\u001b[0m \u001b[0;34m**\u001b[0m\u001b[0mkwds\u001b[0m\u001b[0;34m)\u001b[0m\u001b[0;34m\u001b[0m\u001b[0;34m\u001b[0m\u001b[0m\n\u001b[0m\u001b[1;32m     48\u001b[0m     \u001b[0;32mif\u001b[0m \u001b[0mwrap\u001b[0m\u001b[0;34m:\u001b[0m\u001b[0;34m\u001b[0m\u001b[0;34m\u001b[0m\u001b[0m\n\u001b[1;32m     49\u001b[0m         \u001b[0;32mif\u001b[0m \u001b[0;32mnot\u001b[0m \u001b[0misinstance\u001b[0m\u001b[0;34m(\u001b[0m\u001b[0mresult\u001b[0m\u001b[0;34m,\u001b[0m \u001b[0mmu\u001b[0m\u001b[0;34m.\u001b[0m\u001b[0mndarray\u001b[0m\u001b[0;34m)\u001b[0m\u001b[0;34m:\u001b[0m\u001b[0;34m\u001b[0m\u001b[0;34m\u001b[0m\u001b[0m\n",
      "\u001b[0;31mTypeError\u001b[0m: 'str' object cannot be interpreted as an integer"
     ]
    }
   ],
   "source": [
    "# Convergence\n",
    "idx_sol = np.argmin(result.opt_result.func_vals, '.')\n",
    "plt.plot(result.opt_result.func_vals)\n",
    "plt.plot(np.minimum.accumulate(result.opt_result.func_vals))\n",
    "plt.plot(idx_sol, result.opt_result.fun, '.')\n",
    "plt.xlabel('Iteration')\n",
    "plt.ylabel('Utility')\n",
    "plt.ylim([-500, 0])"
   ]
  },
  {
   "cell_type": "code",
   "execution_count": 20,
   "metadata": {},
   "outputs": [
    {
     "data": {
      "text/plain": [
       "<matplotlib.legend.Legend at 0x12f7c66d0>"
      ]
     },
     "execution_count": 20,
     "metadata": {},
     "output_type": "execute_result"
    },
    {
     "data": {
      "image/png": "[encoded data removed]",
      "text/plain": [
       "<Figure size 432x288 with 1 Axes>"
      ]
     },
     "metadata": {},
     "output_type": "display_data"
    }
   ],
   "source": [
    "# Parameters\n",
    "plt.plot(result.opt_result.x_iters)\n",
    "plt.plot(idx_sol*np.ones(2), result.opt_result.x, '.')\n",
    "plt.xlabel('Iteration')\n",
    "plt.ylabel('Parameters')\n",
    "plt.legend(['D2cm', 'Rib'])"
   ]
  },
  {
   "cell_type": "code",
   "execution_count": 14,
   "metadata": {},
   "outputs": [],
   "source": [
    "x_iters = np.array(result.opt_result.x_iters)"
   ]
  },
  {
   "cell_type": "code",
   "execution_count": 21,
   "metadata": {},
   "outputs": [
    {
     "data": {
      "text/plain": [
       "Text(0, 0.5, 'Utility')"
      ]
     },
     "execution_count": 21,
     "metadata": {},
     "output_type": "execute_result"
    },
    {
     "data": {
      "image/png": "[encoded data removed]",
      "text/plain": [
       "<Figure size 432x288 with 1 Axes>"
      ]
     },
     "metadata": {},
     "output_type": "display_data"
    }
   ],
   "source": [
    "plt.plot(x_iters[:,0], result.opt_result.func_vals, '.')\n",
    "plt.plot(result.opt_result.x[0], result.opt_result.fun, '.')\n",
    "plt.xlabel('D2cm')\n",
    "plt.ylabel('Utility')"
   ]
  },
  {
   "cell_type": "code",
   "execution_count": 22,
   "metadata": {},
   "outputs": [
    {
     "data": {
      "text/plain": [
       "Text(0, 0.5, 'Utility')"
      ]
     },
     "execution_count": 22,
     "metadata": {},
     "output_type": "execute_result"
    },
    {
     "data": {
      "image/png": "[encoded data removed]",
      "text/plain": [
       "<Figure size 432x288 with 1 Axes>"
      ]
     },
     "metadata": {},
     "output_type": "display_data"
    }
   ],
   "source": [
    "plt.plot(x_iters[:,1], result.opt_result.func_vals, '.')\n",
    "plt.plot(result.opt_result.x[1], result.opt_result.fun, '.')\n",
    "plt.xlabel('Rib')\n",
    "plt.ylabel('Utility')"
   ]
  },
  {
   "cell_type": "code",
   "execution_count": 23,
   "metadata": {},
   "outputs": [
    {
     "data": {
      "text/plain": [
       "625.0"
      ]
     },
     "execution_count": 23,
     "metadata": {},
     "output_type": "execute_result"
    }
   ],
   "source": [
    "2500/4"
   ]
  },
  {
   "cell_type": "code",
   "execution_count": 24,
   "metadata": {},
   "outputs": [
    {
     "data": {
      "text/plain": [
       "[545.6137915835166, 1275.8889030936132]"
      ]
     },
     "execution_count": 24,
     "metadata": {},
     "output_type": "execute_result"
    }
   ],
   "source": [
    "result.opt_result.x"
   ]
  },
  {
   "cell_type": "code",
   "execution_count": null,
   "metadata": {},
   "outputs": [],
   "source": []
  }
 ],
 "metadata": {
  "kernelspec": {
   "display_name": "Python 3",
   "language": "python",
   "name": "python3"
  },
  "language_info": {
   "codemirror_mode": {
    "name": "ipython",
    "version": 3
   },
   "file_extension": ".py",
   "mimetype": "text/x-python",
   "name": "python",
   "nbconvert_exporter": "python",
   "pygments_lexer": "ipython3",
   "version": "3.7.6"
  }
 },
 "nbformat": 4,
 "nbformat_minor": 4
}
