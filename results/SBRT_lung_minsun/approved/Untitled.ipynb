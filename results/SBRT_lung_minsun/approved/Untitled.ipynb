{
 "cells": [
  {
   "cell_type": "code",
   "execution_count": 1,
   "metadata": {},
   "outputs": [],
   "source": [
    "import pickle\n",
    "import sys\n",
    "\n",
    "import matplotlib.pyplot as plt\n",
    "import numpy as np\n",
    "import pandas as pd\n",
    "\n",
    "sys.path.append('../../../src')\n",
    "import raybay"
   ]
  },
  {
   "cell_type": "code",
   "execution_count": 2,
   "metadata": {},
   "outputs": [],
   "source": [
    "result = np.load('result', allow_pickle=True)"
   ]
  },
  {
   "cell_type": "code",
   "execution_count": 3,
   "metadata": {},
   "outputs": [
    {
     "data": {
      "text/plain": [
       "'SBRT_lung_minsun'"
      ]
     },
     "execution_count": 3,
     "metadata": {},
     "output_type": "execute_result"
    }
   ],
   "source": [
    "result.patient"
   ]
  },
  {
   "cell_type": "code",
   "execution_count": 4,
   "metadata": {},
   "outputs": [
    {
     "data": {
      "text/plain": [
       "'Thorax'"
      ]
     },
     "execution_count": 4,
     "metadata": {},
     "output_type": "execute_result"
    }
   ],
   "source": [
    "result.case"
   ]
  },
  {
   "cell_type": "code",
   "execution_count": 5,
   "metadata": {},
   "outputs": [
    {
     "data": {
      "text/plain": [
       "'L Lung SBRT'"
      ]
     },
     "execution_count": 5,
     "metadata": {},
     "output_type": "execute_result"
    }
   ],
   "source": [
    "result.plan"
   ]
  },
  {
   "cell_type": "code",
   "execution_count": 6,
   "metadata": {},
   "outputs": [
    {
     "data": {
      "text/html": [
       "<div>\n",
       "<style scoped>\n",
       "    .dataframe tbody tr th:only-of-type {\n",
       "        vertical-align: middle;\n",
       "    }\n",
       "\n",
       "    .dataframe tbody tr th {\n",
       "        vertical-align: top;\n",
       "    }\n",
       "\n",
       "    .dataframe thead th {\n",
       "        text-align: right;\n",
       "    }\n",
       "</style>\n",
       "<table border=\"1\" class=\"dataframe\">\n",
       "  <thead>\n",
       "    <tr style=\"text-align: right;\">\n",
       "      <th></th>\n",
       "      <th>Roi</th>\n",
       "      <th>FunctionType</th>\n",
       "      <th>DoseLevel</th>\n",
       "      <th>PercentVolume</th>\n",
       "      <th>EudParameterA</th>\n",
       "      <th>Weight</th>\n",
       "    </tr>\n",
       "  </thead>\n",
       "  <tbody>\n",
       "    <tr>\n",
       "      <th>0</th>\n",
       "      <td>SpinalCanal</td>\n",
       "      <td>MaxDose</td>\n",
       "      <td>2080</td>\n",
       "      <td>0</td>\n",
       "      <td>NaN</td>\n",
       "      <td>90</td>\n",
       "    </tr>\n",
       "    <tr>\n",
       "      <th>1</th>\n",
       "      <td>Esophagus</td>\n",
       "      <td>MaxDose</td>\n",
       "      <td>1880</td>\n",
       "      <td>0</td>\n",
       "      <td>NaN</td>\n",
       "      <td>90</td>\n",
       "    </tr>\n",
       "    <tr>\n",
       "      <th>2</th>\n",
       "      <td>Heart</td>\n",
       "      <td>MaxDose</td>\n",
       "      <td>2800</td>\n",
       "      <td>0</td>\n",
       "      <td>NaN</td>\n",
       "      <td>90</td>\n",
       "    </tr>\n",
       "    <tr>\n",
       "      <th>3</th>\n",
       "      <td>GreatVes</td>\n",
       "      <td>MaxDose</td>\n",
       "      <td>4300</td>\n",
       "      <td>0</td>\n",
       "      <td>NaN</td>\n",
       "      <td>90</td>\n",
       "    </tr>\n",
       "    <tr>\n",
       "      <th>4</th>\n",
       "      <td>Trachea</td>\n",
       "      <td>MaxDose</td>\n",
       "      <td>1560</td>\n",
       "      <td>0</td>\n",
       "      <td>NaN</td>\n",
       "      <td>90</td>\n",
       "    </tr>\n",
       "    <tr>\n",
       "      <th>5</th>\n",
       "      <td>Bronchus</td>\n",
       "      <td>MaxDose</td>\n",
       "      <td>1560</td>\n",
       "      <td>0</td>\n",
       "      <td>NaN</td>\n",
       "      <td>90</td>\n",
       "    </tr>\n",
       "    <tr>\n",
       "      <th>6</th>\n",
       "      <td>Rib</td>\n",
       "      <td>MaxDose</td>\n",
       "      <td>3200</td>\n",
       "      <td>0</td>\n",
       "      <td>NaN</td>\n",
       "      <td>90</td>\n",
       "    </tr>\n",
       "    <tr>\n",
       "      <th>7</th>\n",
       "      <td>Skin</td>\n",
       "      <td>MaxDose</td>\n",
       "      <td>3320</td>\n",
       "      <td>0</td>\n",
       "      <td>NaN</td>\n",
       "      <td>90</td>\n",
       "    </tr>\n",
       "    <tr>\n",
       "      <th>8</th>\n",
       "      <td>PTV</td>\n",
       "      <td>MaxDose</td>\n",
       "      <td>6240</td>\n",
       "      <td>0</td>\n",
       "      <td>NaN</td>\n",
       "      <td>95</td>\n",
       "    </tr>\n",
       "    <tr>\n",
       "      <th>9</th>\n",
       "      <td>PTV</td>\n",
       "      <td>MinDose</td>\n",
       "      <td>4800</td>\n",
       "      <td>0</td>\n",
       "      <td>NaN</td>\n",
       "      <td>100</td>\n",
       "    </tr>\n",
       "    <tr>\n",
       "      <th>10</th>\n",
       "      <td>Chestwall_L</td>\n",
       "      <td>MaxDvh</td>\n",
       "      <td>3000</td>\n",
       "      <td>1.5</td>\n",
       "      <td>NaN</td>\n",
       "      <td>90</td>\n",
       "    </tr>\n",
       "    <tr>\n",
       "      <th>11</th>\n",
       "      <td>Lungs</td>\n",
       "      <td>MaxDvh</td>\n",
       "      <td>2000</td>\n",
       "      <td>10</td>\n",
       "      <td>NaN</td>\n",
       "      <td>90</td>\n",
       "    </tr>\n",
       "    <tr>\n",
       "      <th>12</th>\n",
       "      <td>D2cm</td>\n",
       "      <td>MaxDose</td>\n",
       "      <td>2300</td>\n",
       "      <td>0</td>\n",
       "      <td>NaN</td>\n",
       "      <td>90</td>\n",
       "    </tr>\n",
       "    <tr>\n",
       "      <th>13</th>\n",
       "      <td>Pericardium</td>\n",
       "      <td>MaxDose</td>\n",
       "      <td>2800</td>\n",
       "      <td>0</td>\n",
       "      <td>NaN</td>\n",
       "      <td>90</td>\n",
       "    </tr>\n",
       "    <tr>\n",
       "      <th>14</th>\n",
       "      <td>R1</td>\n",
       "      <td>MaxDose</td>\n",
       "      <td>4400</td>\n",
       "      <td>0</td>\n",
       "      <td>NaN</td>\n",
       "      <td>90</td>\n",
       "    </tr>\n",
       "    <tr>\n",
       "      <th>15</th>\n",
       "      <td>R2</td>\n",
       "      <td>MaxDose</td>\n",
       "      <td>4200</td>\n",
       "      <td>0</td>\n",
       "      <td>NaN</td>\n",
       "      <td>90</td>\n",
       "    </tr>\n",
       "    <tr>\n",
       "      <th>16</th>\n",
       "      <td>D2cm_CD</td>\n",
       "      <td>MaxDose</td>\n",
       "      <td>2300</td>\n",
       "      <td>0</td>\n",
       "      <td>NaN</td>\n",
       "      <td>90</td>\n",
       "    </tr>\n",
       "    <tr>\n",
       "      <th>17</th>\n",
       "      <td>D2cm_CD2</td>\n",
       "      <td>MaxDose</td>\n",
       "      <td>2300</td>\n",
       "      <td>0</td>\n",
       "      <td>NaN</td>\n",
       "      <td>90</td>\n",
       "    </tr>\n",
       "  </tbody>\n",
       "</table>\n",
       "</div>"
      ],
      "text/plain": [
       "            Roi FunctionType DoseLevel PercentVolume EudParameterA Weight\n",
       "0   SpinalCanal      MaxDose      2080             0           NaN     90\n",
       "1     Esophagus      MaxDose      1880             0           NaN     90\n",
       "2         Heart      MaxDose      2800             0           NaN     90\n",
       "3      GreatVes      MaxDose      4300             0           NaN     90\n",
       "4       Trachea      MaxDose      1560             0           NaN     90\n",
       "5      Bronchus      MaxDose      1560             0           NaN     90\n",
       "6           Rib      MaxDose      3200             0           NaN     90\n",
       "7          Skin      MaxDose      3320             0           NaN     90\n",
       "8           PTV      MaxDose      6240             0           NaN     95\n",
       "9           PTV      MinDose      4800             0           NaN    100\n",
       "10  Chestwall_L       MaxDvh      3000           1.5           NaN     90\n",
       "11        Lungs       MaxDvh      2000            10           NaN     90\n",
       "12         D2cm      MaxDose      2300             0           NaN     90\n",
       "13  Pericardium      MaxDose      2800             0           NaN     90\n",
       "14           R1      MaxDose      4400             0           NaN     90\n",
       "15           R2      MaxDose      4200             0           NaN     90\n",
       "16      D2cm_CD      MaxDose      2300             0           NaN     90\n",
       "17     D2cm_CD2      MaxDose      2300             0           NaN     90"
      ]
     },
     "execution_count": 6,
     "metadata": {},
     "output_type": "execute_result"
    }
   ],
   "source": [
    "result.funcs"
   ]
  },
  {
   "cell_type": "code",
   "execution_count": 7,
   "metadata": {},
   "outputs": [
    {
     "data": {
      "text/html": [
       "<div>\n",
       "<style scoped>\n",
       "    .dataframe tbody tr th:only-of-type {\n",
       "        vertical-align: middle;\n",
       "    }\n",
       "\n",
       "    .dataframe tbody tr th {\n",
       "        vertical-align: top;\n",
       "    }\n",
       "\n",
       "    .dataframe thead th {\n",
       "        text-align: right;\n",
       "    }\n",
       "</style>\n",
       "<table border=\"1\" class=\"dataframe\">\n",
       "  <thead>\n",
       "    <tr style=\"text-align: right;\">\n",
       "      <th></th>\n",
       "      <th>Roi</th>\n",
       "      <th>Type</th>\n",
       "      <th>GoalCriteria</th>\n",
       "      <th>AcceptanceLevel</th>\n",
       "      <th>ParameterValue</th>\n",
       "    </tr>\n",
       "  </thead>\n",
       "  <tbody>\n",
       "    <tr>\n",
       "      <th>0</th>\n",
       "      <td>Bronchus</td>\n",
       "      <td>MaxDvh</td>\n",
       "      <td>AtMost</td>\n",
       "      <td>1560</td>\n",
       "      <td>18.52</td>\n",
       "    </tr>\n",
       "    <tr>\n",
       "      <th>1</th>\n",
       "      <td>Bronchus</td>\n",
       "      <td>MaxDose</td>\n",
       "      <td>AtMost</td>\n",
       "      <td>3480</td>\n",
       "      <td>NaN</td>\n",
       "    </tr>\n",
       "    <tr>\n",
       "      <th>2</th>\n",
       "      <td>Chestwall_L</td>\n",
       "      <td>MaxDvh</td>\n",
       "      <td>AtMost</td>\n",
       "      <td>3000</td>\n",
       "      <td>2.04</td>\n",
       "    </tr>\n",
       "    <tr>\n",
       "      <th>3</th>\n",
       "      <td>D2cm</td>\n",
       "      <td>MaxDose</td>\n",
       "      <td>AtMost</td>\n",
       "      <td>2400</td>\n",
       "      <td>NaN</td>\n",
       "    </tr>\n",
       "    <tr>\n",
       "      <th>4</th>\n",
       "      <td>Esophagus</td>\n",
       "      <td>MaxDvh</td>\n",
       "      <td>AtMost</td>\n",
       "      <td>1880</td>\n",
       "      <td>16.91</td>\n",
       "    </tr>\n",
       "    <tr>\n",
       "      <th>5</th>\n",
       "      <td>Esophagus</td>\n",
       "      <td>MaxDose</td>\n",
       "      <td>AtMost</td>\n",
       "      <td>3000</td>\n",
       "      <td>NaN</td>\n",
       "    </tr>\n",
       "    <tr>\n",
       "      <th>6</th>\n",
       "      <td>GreatVes</td>\n",
       "      <td>MaxDvh</td>\n",
       "      <td>AtMost</td>\n",
       "      <td>4300</td>\n",
       "      <td>5.66</td>\n",
       "    </tr>\n",
       "    <tr>\n",
       "      <th>7</th>\n",
       "      <td>GreatVes</td>\n",
       "      <td>MaxDose</td>\n",
       "      <td>AtMost</td>\n",
       "      <td>4900</td>\n",
       "      <td>NaN</td>\n",
       "    </tr>\n",
       "    <tr>\n",
       "      <th>8</th>\n",
       "      <td>Heart</td>\n",
       "      <td>MaxDvh</td>\n",
       "      <td>AtMost</td>\n",
       "      <td>2800</td>\n",
       "      <td>1.84</td>\n",
       "    </tr>\n",
       "    <tr>\n",
       "      <th>9</th>\n",
       "      <td>Heart</td>\n",
       "      <td>MaxDose</td>\n",
       "      <td>AtMost</td>\n",
       "      <td>3400</td>\n",
       "      <td>NaN</td>\n",
       "    </tr>\n",
       "    <tr>\n",
       "      <th>10</th>\n",
       "      <td>Lungs</td>\n",
       "      <td>MaxDvh</td>\n",
       "      <td>AtMost</td>\n",
       "      <td>2000</td>\n",
       "      <td>10.00</td>\n",
       "    </tr>\n",
       "    <tr>\n",
       "      <th>11</th>\n",
       "      <td>Lungs</td>\n",
       "      <td>MaxDvh</td>\n",
       "      <td>AtMost</td>\n",
       "      <td>1160</td>\n",
       "      <td>29.19</td>\n",
       "    </tr>\n",
       "    <tr>\n",
       "      <th>12</th>\n",
       "      <td>Pericardium</td>\n",
       "      <td>MaxDvh</td>\n",
       "      <td>AtMost</td>\n",
       "      <td>2800</td>\n",
       "      <td>3.23</td>\n",
       "    </tr>\n",
       "    <tr>\n",
       "      <th>13</th>\n",
       "      <td>Pericardium</td>\n",
       "      <td>MaxDose</td>\n",
       "      <td>AtMost</td>\n",
       "      <td>3400</td>\n",
       "      <td>NaN</td>\n",
       "    </tr>\n",
       "    <tr>\n",
       "      <th>14</th>\n",
       "      <td>PTV</td>\n",
       "      <td>MinDvh</td>\n",
       "      <td>AtLeast</td>\n",
       "      <td>4800</td>\n",
       "      <td>95.00</td>\n",
       "    </tr>\n",
       "    <tr>\n",
       "      <th>15</th>\n",
       "      <td>PTV</td>\n",
       "      <td>MinDvh</td>\n",
       "      <td>AtLeast</td>\n",
       "      <td>4320</td>\n",
       "      <td>99.00</td>\n",
       "    </tr>\n",
       "    <tr>\n",
       "      <th>16</th>\n",
       "      <td>Rib</td>\n",
       "      <td>MaxDvh</td>\n",
       "      <td>AtMost</td>\n",
       "      <td>3200</td>\n",
       "      <td>0.27</td>\n",
       "    </tr>\n",
       "    <tr>\n",
       "      <th>17</th>\n",
       "      <td>Rib</td>\n",
       "      <td>MaxDose</td>\n",
       "      <td>AtMost</td>\n",
       "      <td>4000</td>\n",
       "      <td>NaN</td>\n",
       "    </tr>\n",
       "    <tr>\n",
       "      <th>18</th>\n",
       "      <td>Skin</td>\n",
       "      <td>MaxDvh</td>\n",
       "      <td>AtMost</td>\n",
       "      <td>3320</td>\n",
       "      <td>0.27</td>\n",
       "    </tr>\n",
       "    <tr>\n",
       "      <th>19</th>\n",
       "      <td>Skin</td>\n",
       "      <td>MaxDose</td>\n",
       "      <td>AtMost</td>\n",
       "      <td>3600</td>\n",
       "      <td>NaN</td>\n",
       "    </tr>\n",
       "    <tr>\n",
       "      <th>20</th>\n",
       "      <td>SpinalCanal</td>\n",
       "      <td>MaxDvh</td>\n",
       "      <td>AtMost</td>\n",
       "      <td>2080</td>\n",
       "      <td>0.67</td>\n",
       "    </tr>\n",
       "    <tr>\n",
       "      <th>21</th>\n",
       "      <td>Trachea</td>\n",
       "      <td>MaxDvh</td>\n",
       "      <td>AtMost</td>\n",
       "      <td>1560</td>\n",
       "      <td>15.21</td>\n",
       "    </tr>\n",
       "    <tr>\n",
       "      <th>22</th>\n",
       "      <td>Trachea</td>\n",
       "      <td>MaxDose</td>\n",
       "      <td>AtMost</td>\n",
       "      <td>3480</td>\n",
       "      <td>NaN</td>\n",
       "    </tr>\n",
       "  </tbody>\n",
       "</table>\n",
       "</div>"
      ],
      "text/plain": [
       "            Roi     Type GoalCriteria  AcceptanceLevel  ParameterValue\n",
       "0      Bronchus   MaxDvh       AtMost             1560           18.52\n",
       "1      Bronchus  MaxDose       AtMost             3480             NaN\n",
       "2   Chestwall_L   MaxDvh       AtMost             3000            2.04\n",
       "3          D2cm  MaxDose       AtMost             2400             NaN\n",
       "4     Esophagus   MaxDvh       AtMost             1880           16.91\n",
       "5     Esophagus  MaxDose       AtMost             3000             NaN\n",
       "6      GreatVes   MaxDvh       AtMost             4300            5.66\n",
       "7      GreatVes  MaxDose       AtMost             4900             NaN\n",
       "8         Heart   MaxDvh       AtMost             2800            1.84\n",
       "9         Heart  MaxDose       AtMost             3400             NaN\n",
       "10        Lungs   MaxDvh       AtMost             2000           10.00\n",
       "11        Lungs   MaxDvh       AtMost             1160           29.19\n",
       "12  Pericardium   MaxDvh       AtMost             2800            3.23\n",
       "13  Pericardium  MaxDose       AtMost             3400             NaN\n",
       "14          PTV   MinDvh      AtLeast             4800           95.00\n",
       "15          PTV   MinDvh      AtLeast             4320           99.00\n",
       "16          Rib   MaxDvh       AtMost             3200            0.27\n",
       "17          Rib  MaxDose       AtMost             4000             NaN\n",
       "18         Skin   MaxDvh       AtMost             3320            0.27\n",
       "19         Skin  MaxDose       AtMost             3600             NaN\n",
       "20  SpinalCanal   MaxDvh       AtMost             2080            0.67\n",
       "21      Trachea   MaxDvh       AtMost             1560           15.21\n",
       "22      Trachea  MaxDose       AtMost             3480             NaN"
      ]
     },
     "execution_count": 7,
     "metadata": {},
     "output_type": "execute_result"
    }
   ],
   "source": [
    "result.goals"
   ]
  },
  {
   "cell_type": "code",
   "execution_count": 8,
   "metadata": {},
   "outputs": [
    {
     "data": {
      "text/plain": [
       "{'Bronchus',\n",
       " 'Chestwall_L',\n",
       " 'D2cm',\n",
       " 'Esophagus',\n",
       " 'GreatVes',\n",
       " 'Heart',\n",
       " 'Lungs',\n",
       " 'PTV',\n",
       " 'Pericardium',\n",
       " 'Rib',\n",
       " 'Skin',\n",
       " 'SpinalCanal',\n",
       " 'Trachea'}"
      ]
     },
     "execution_count": 8,
     "metadata": {},
     "output_type": "execute_result"
    }
   ],
   "source": [
    "result.roi_list"
   ]
  },
  {
   "cell_type": "code",
   "execution_count": 9,
   "metadata": {},
   "outputs": [
    {
     "data": {
      "text/plain": [
       "'N/A'"
      ]
     },
     "execution_count": 9,
     "metadata": {},
     "output_type": "execute_result"
    }
   ],
   "source": [
    "result.solver"
   ]
  },
  {
   "cell_type": "code",
   "execution_count": 10,
   "metadata": {},
   "outputs": [
    {
     "data": {
      "text/plain": [
       "-12.1525941629046"
      ]
     },
     "execution_count": 10,
     "metadata": {},
     "output_type": "execute_result"
    }
   ],
   "source": [
    "result.opt_result"
   ]
  },
  {
   "cell_type": "code",
   "execution_count": 11,
   "metadata": {},
   "outputs": [
    {
     "data": {
      "text/plain": [
       "{0: [862.8846623456924],\n",
       " 1: [1770.593994140625],\n",
       " 2: [1863.7081880189683],\n",
       " 3: [2513.27490234375],\n",
       " 4: [689.0251923531637],\n",
       " 5: [960.8465576171875],\n",
       " 6: [1090.9340370281295],\n",
       " 7: [1662.864501953125],\n",
       " 8: [889.2484683679811],\n",
       " 9: [1442.4891357421875],\n",
       " 10: [783.5538509234458],\n",
       " 11: [283.48636971655327],\n",
       " 12: [1047.2195778276914],\n",
       " 13: [1576.0205078125],\n",
       " 14: [4800.13222492122],\n",
       " 15: [4700.361260815121],\n",
       " 16: [2620.9576359694697],\n",
       " 17: [3302.385986328125],\n",
       " 18: [833.3726655168612],\n",
       " 19: [1131.011962890625],\n",
       " 20: [946.8538721563217],\n",
       " 21: [33.83489825894581],\n",
       " 22: [79.9688491821289]}"
      ]
     },
     "execution_count": 11,
     "metadata": {},
     "output_type": "execute_result"
    }
   ],
   "source": [
    "result.goal_result"
   ]
  },
  {
   "cell_type": "code",
   "execution_count": 12,
   "metadata": {},
   "outputs": [
    {
     "data": {
      "text/plain": [
       "('PTV', 4800, 95)"
      ]
     },
     "execution_count": 12,
     "metadata": {},
     "output_type": "execute_result"
    }
   ],
   "source": [
    "result.norm"
   ]
  },
  {
   "cell_type": "code",
   "execution_count": 13,
   "metadata": {},
   "outputs": [
    {
     "data": {
      "image/png": "[encoded data removed]",
      "text/plain": [
       "<Figure size 432x288 with 1 Axes>"
      ]
     },
     "metadata": {
      "needs_background": "light"
     },
     "output_type": "display_data"
    }
   ],
   "source": [
    "for key in result.dvh_result:\n",
    "    if key != 'Dose':\n",
    "        plt.plot(result.dvh_result['Dose'], result.dvh_result[key])"
   ]
  },
  {
   "cell_type": "code",
   "execution_count": null,
   "metadata": {},
   "outputs": [],
   "source": []
  }
 ],
 "metadata": {
  "kernelspec": {
   "display_name": "Python 3",
   "language": "python",
   "name": "python3"
  },
  "language_info": {
   "codemirror_mode": {
    "name": "ipython",
    "version": 3
   },
   "file_extension": ".py",
   "mimetype": "text/x-python",
   "name": "python",
   "nbconvert_exporter": "python",
   "pygments_lexer": "ipython3",
   "version": "3.7.6"
  }
 },
 "nbformat": 4,
 "nbformat_minor": 2
}
