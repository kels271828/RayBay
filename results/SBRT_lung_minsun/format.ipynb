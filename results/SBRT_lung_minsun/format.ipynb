{
 "cells": [
  {
   "cell_type": "code",
   "execution_count": 1,
   "metadata": {},
   "outputs": [],
   "source": [
    "import pickle\n",
    "import sys\n",
    "\n",
    "import numpy as np\n",
    "import pandas as pd\n",
    "\n",
    "sys.path.append('../../src')\n",
    "import raybay"
   ]
  },
  {
   "cell_type": "markdown",
   "metadata": {},
   "source": [
    "# Format Plans\n",
    "\n",
    "Goal and function DataFrames are not saved correctly from remote."
   ]
  },
  {
   "cell_type": "code",
   "execution_count": 2,
   "metadata": {},
   "outputs": [],
   "source": [
    "# Approved plan\n",
    "approved = np.load('approved/res_approved.pkl', allow_pickle=True)\n",
    "approved.func_df = raybay.get_funcs('approved/funcs.csv')\n",
    "approved.goal_df = pd.read_csv('goals.csv')\n",
    "pickle.dump(approved, open('approved/res_approved.pkl', 'wb'))"
   ]
  },
  {
   "cell_type": "code",
   "execution_count": 3,
   "metadata": {},
   "outputs": [],
   "source": [
    "# Default plan\n",
    "default = np.load('default/res_default.pkl', allow_pickle=True)\n",
    "default.func_df = raybay.get_funcs('default/funcs.csv')\n",
    "default.goal_df = pd.read_csv('goals.csv')\n",
    "pickle.dump(default, open('default/res_default.pkl', 'wb'))"
   ]
  },
  {
   "cell_type": "markdown",
   "metadata": {},
   "source": [
    "## Grid Search (2D)\n",
    "\n",
    "Computed in batches due to connection timing out."
   ]
  },
  {
   "cell_type": "code",
   "execution_count": 4,
   "metadata": {},
   "outputs": [],
   "source": [
    "# Load 2D grid search results\n",
    "goal_dict_1 = np.load('grid/goal_dict_1.pkl', allow_pickle=True) # (0,0) - (100,2700)\n",
    "goal_dict_2 = np.load('grid/goal_dict_2.pkl', allow_pickle=True) # (200,0) - (700,100)\n",
    "goal_dict_3 = np.load('grid/goal_dict_3.pkl', allow_pickle=True) # (100,2800) - (100,4000)\n",
    "goal_dict_4 = np.load('grid/goal_dict_4.pkl', allow_pickle=True) # (700,0) - (1200,2000)\n",
    "goal_dict_5 = np.load('grid/goal_dict_5.pkl', allow_pickle=True) # (1200,2100) - (1200,4000)\n",
    "goal_dict_6 = np.load('grid/goal_dict_6.pkl', allow_pickle=True) # (1300,0) - (1500,2200)\n",
    "goal_dict_7 = np.load('grid/goal_dict_7.pkl', allow_pickle=True) # (1500,2300) - (1500,4000)\n",
    "goal_dict_8 = np.load('grid/goal_dict_8.pkl', allow_pickle=True) # (1600,0) - (2400,4000)"
   ]
  },
  {
   "cell_type": "code",
   "execution_count": 5,
   "metadata": {},
   "outputs": [],
   "source": [
    "# Compile clinical goal results\n",
    "d2cm = np.arange(0, 2500, 100)\n",
    "rib = np.arange(0, 4100, 100)\n",
    "goal_dict = {ii: goal_dict_1[ii].copy() for ii in goal_dict_1}\n",
    "for ii in goal_dict:\n",
    "    goal_dict[ii] += goal_dict_3[ii]\n",
    "    goal_dict[ii] += goal_dict_2[ii][:-2]\n",
    "    goal_dict[ii] += goal_dict_4[ii]\n",
    "    goal_dict[ii] += goal_dict_5[ii]\n",
    "    goal_dict[ii] += goal_dict_6[ii]\n",
    "    goal_dict[ii] += goal_dict_7[ii]\n",
    "    goal_dict[ii] += goal_dict_8[ii]\n",
    "x_iters = [[ii, jj] for ii in d2cm for jj in rib]"
   ]
  },
  {
   "cell_type": "code",
   "execution_count": 6,
   "metadata": {},
   "outputs": [],
   "source": [
    "# Read log files to get flags\n",
    "flag_list_1 = []\n",
    "f = open('grid/log_grid_1.txt', 'r')\n",
    "for line in f:\n",
    "    flag = int(line.split()[4][:-1])\n",
    "    flag_list_1.append(flag)\n",
    "f.close()\n",
    "\n",
    "flag_list_2 = []\n",
    "f = open('grid/log_grid_2.txt', 'r')\n",
    "for line in f:\n",
    "    flag = int(line.split()[4][:-1])\n",
    "    flag_list_2.append(flag)\n",
    "f.close()\n",
    "\n",
    "flag_list_3 = []\n",
    "f = open('grid/log_grid_3.txt', 'r')\n",
    "for line in f:\n",
    "    flag = int(line.split()[3][:-1])\n",
    "    flag_list_3.append(flag)\n",
    "f.close()\n",
    "\n",
    "flag_list_4 = []\n",
    "f = open('grid/log_grid_4.txt', 'r')\n",
    "for line in f:\n",
    "    flag = int(line.split()[4][:-1])\n",
    "    flag_list_4.append(flag)\n",
    "f.close()\n",
    "\n",
    "flag_list_5 = []\n",
    "f = open('grid/log_grid_5.txt', 'r')\n",
    "for line in f:\n",
    "    flag = int(line.split()[3][:-1])\n",
    "    flag_list_5.append(flag)\n",
    "f.close()\n",
    "\n",
    "flag_list_6 = []\n",
    "f = open('grid/log_grid_6.txt', 'r')\n",
    "for line in f:\n",
    "    flag = int(line.split()[4][:-1])\n",
    "    flag_list_6.append(flag)\n",
    "f.close()\n",
    "\n",
    "flag_list_7 = []\n",
    "f = open('grid/log_grid_7.txt', 'r')\n",
    "for line in f:\n",
    "    flag = int(line.split()[3][:-1])\n",
    "    flag_list_7.append(flag)\n",
    "f.close()\n",
    "\n",
    "flag_list_8 = []\n",
    "f = open('grid/log_grid_8.txt', 'r')\n",
    "for line in f:\n",
    "    flag = int(line.split()[4][:-1])\n",
    "    flag_list_8.append(flag)\n",
    "f.close()"
   ]
  },
  {
   "cell_type": "code",
   "execution_count": 7,
   "metadata": {},
   "outputs": [],
   "source": [
    "# Compile flag lists\n",
    "flag_list = flag_list_1.copy()\n",
    "flag_list += flag_list_3\n",
    "flag_list += flag_list_2[:-2]\n",
    "flag_list += flag_list_4\n",
    "flag_list += flag_list_5\n",
    "flag_list += flag_list_6\n",
    "flag_list += flag_list_7\n",
    "flag_list += flag_list_8"
   ]
  },
  {
   "cell_type": "code",
   "execution_count": 8,
   "metadata": {},
   "outputs": [],
   "source": [
    "# Save raybay result\n",
    "grid = raybay.RaybayResult(\n",
    "    default.patient,\n",
    "    default.case,\n",
    "    default.plan,\n",
    "    'grid/funcs.csv',\n",
    "    ('PTV', 4800, 95),\n",
    "    'goals.csv')\n",
    "grid.opt_result = raybay.OptimizeResult(x_iters)\n",
    "grid.flag_list = flag_list\n",
    "grid.goal_dict = goal_dict\n",
    "pickle.dump(grid, open('grid/res_grid.pkl', 'wb'))"
   ]
  },
  {
   "cell_type": "markdown",
   "metadata": {},
   "source": [
    "## Optimized plans (2D)"
   ]
  },
  {
   "cell_type": "code",
   "execution_count": 9,
   "metadata": {},
   "outputs": [],
   "source": [
    "# Random search\n",
    "dummy = np.load('grid/res_lin_dummy_minimize.pkl', allow_pickle=True)\n",
    "dummy.func_df = raybay.get_funcs('grid/funcs.csv')\n",
    "dummy.goal_df = pd.read_csv('grid/goals_lin.csv')\n",
    "pickle.dump(dummy, open('grid/res_lin_dummy_minimize.pkl', 'wb'))"
   ]
  },
  {
   "cell_type": "code",
   "execution_count": 10,
   "metadata": {},
   "outputs": [],
   "source": [
    "# Bayesian search (linear)\n",
    "bayes_lin = np.load('grid/res_lin_gp_minimize.pkl', allow_pickle=True)\n",
    "bayes_lin.func_df = raybay.get_funcs('grid/funcs.csv')\n",
    "bayes_lin.goal_df = pd.read_csv('grid/goals_lin.csv')\n",
    "pickle.dump(bayes_lin, open('grid/res_lin_gp_minimize.pkl', 'wb'))"
   ]
  },
  {
   "cell_type": "code",
   "execution_count": 12,
   "metadata": {},
   "outputs": [],
   "source": [
    "# Bayesian search (linear-quadratic)\n",
    "bayes_linquad = np.load('grid/res_linquad_gp_minimize.pkl', allow_pickle=True)\n",
    "bayes_linquad.func_df = raybay.get_funcs('grid/funcs.csv')\n",
    "bayes_linquad.goal_df = pd.read_csv('grid/goals_linquad.csv')\n",
    "pickle.dump(bayes_linquad, open('grid/res_linquad_gp_minimize.pkl', 'wb'))"
   ]
  },
  {
   "cell_type": "markdown",
   "metadata": {},
   "source": [
    "## Optimized plans (10D)"
   ]
  },
  {
   "cell_type": "code",
   "execution_count": 39,
   "metadata": {},
   "outputs": [],
   "source": [
    "# Bayesian search (linear)"
   ]
  },
  {
   "cell_type": "code",
   "execution_count": 13,
   "metadata": {},
   "outputs": [],
   "source": [
    "# Bayesian search (linear-quadratic)\n",
    "bayes_linquad = np.load('bayes/res_linquad_gp_minimize.pkl', allow_pickle=True)\n",
    "bayes_linquad.func_df = raybay.get_funcs('bayes/funcs.csv')\n",
    "bayes_linquad.goal_df = pd.read_csv('bayes/goals_linquad.csv')\n",
    "pickle.dump(bayes_linquad, open('bayes/res_linquad_gp_minimize.pkl', 'wb'))"
   ]
  },
  {
   "cell_type": "code",
   "execution_count": 18,
   "metadata": {},
   "outputs": [
    {
     "data": {
      "text/plain": [
       "(-500.0, -400.0)"
      ]
     },
     "execution_count": 18,
     "metadata": {},
     "output_type": "execute_result"
    },
    {
     "data": {
      "image/png": "[encoded data removed]",
      "text/plain": [
       "<Figure size 432x288 with 1 Axes>"
      ]
     },
     "metadata": {},
     "output_type": "display_data"
    }
   ],
   "source": [
    "plt.plot(np.minimum.accumulate(bayes_linquad.opt_result.func_vals))\n",
    "plt.ylim([-500,-400])"
   ]
  },
  {
   "cell_type": "code",
   "execution_count": null,
   "metadata": {},
   "outputs": [],
   "source": []
  },
  {
   "cell_type": "code",
   "execution_count": null,
   "metadata": {},
   "outputs": [],
   "source": []
  },
  {
   "cell_type": "code",
   "execution_count": null,
   "metadata": {},
   "outputs": [],
   "source": []
  }
 ],
 "metadata": {
  "kernelspec": {
   "display_name": "Python 3",
   "language": "python",
   "name": "python3"
  },
  "language_info": {
   "codemirror_mode": {
    "name": "ipython",
    "version": 3
   },
   "file_extension": ".py",
   "mimetype": "text/x-python",
   "name": "python",
   "nbconvert_exporter": "python",
   "pygments_lexer": "ipython3",
   "version": "3.7.6"
  }
 },
 "nbformat": 4,
 "nbformat_minor": 4
}
