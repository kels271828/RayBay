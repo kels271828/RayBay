{
 "cells": [
  {
   "cell_type": "markdown",
   "metadata": {},
   "source": [
    "# Dose sensitivity with respect to weight factors and dose parameters"
   ]
  },
  {
   "cell_type": "code",
   "execution_count": null,
   "metadata": {},
   "outputs": [],
   "source": [
    "import pickle\n",
    "import sys\n",
    "\n",
    "import matplotlib.pyplot as plt\n",
    "import numpy as np\n",
    "import seaborn as sns\n",
    "sns.set(color_codes=True, font_scale=1.2)\n",
    "colors = sns.color_palette()\n",
    "\n",
    "sys.path.append('../src')\n",
    "import raybay"
   ]
  },
  {
   "cell_type": "code",
   "execution_count": null,
   "metadata": {},
   "outputs": [],
   "source": [
    "def plotCompareD2cm(folder, labels=True, legend=False):\n",
    "    # Load data\n",
    "    weight = np.load(folder + '/weight/res_weight.pkl', allow_pickle=True)\n",
    "    dose = np.load(folder + '/weight/res_dose.pkl', allow_pickle=True)\n",
    "    limit = dose.opt_result.x_iters[-1][0]/100\n",
    "    \n",
    "    # Plot dose results\n",
    "    fig, ax1 = plt.subplots()\n",
    "    pars = [ii[0] for ii in dose.opt_result.x_iters]\n",
    "    h1, = ax1.plot([pars[ii]/100 for ii in range(1,10)],\n",
    "                   [dose.goal_dict[1][ii]/100 for ii in range(1,10)], '.', color=colors[0])\n",
    "    h2, = ax1.plot([0, limit], [limit, limit], ':', color=colors[2])\n",
    "    ax1.set_xticks(np.linspace(0, limit, 6))\n",
    "    ax1.tick_params(axis='x', colors=colors[0])\n",
    "    \n",
    "    # Plot weight results\n",
    "    ax2 = ax1.twiny()\n",
    "    h3, = ax2.plot(weight.opt_result.x_iters,\n",
    "                   [weight.goal_dict[1][ii]/100 for ii in range(10)], '.', color=colors[1])\n",
    "    ax2.set_xscale('log')\n",
    "    ax2.tick_params(axis='x', colors=colors[1])\n",
    "    ax2.grid(False)\n",
    "    \n",
    "    # Annotations\n",
    "    if labels:\n",
    "        ax1.set_xlabel(r'D2cm Parameter ($\\theta_2$)')\n",
    "        ax2.set_xlabel(r'D2cm Weight ($w_2$)')\n",
    "        ax1.set_ylabel('D2cm MaxDose (Gy)')\n",
    "    else:\n",
    "        ax1.set_xticklabels([])\n",
    "        ax1.set_yticklabels([])\n",
    "        ax2.set_xticklabels([])\n",
    "    if legend:\n",
    "        ax1.legend([h3, h1, h2], ['$w_2$', r'$\\theta_2$', '$\\gamma_2$'], bbox_to_anchor=(1, 1))"
   ]
  },
  {
   "cell_type": "code",
   "execution_count": null,
   "metadata": {},
   "outputs": [],
   "source": [
    "folders = ['SBRT_lung_minsun', 'ZZ_MK_LLungSBRT3778', 'ZZ_MK_RLungSBRT4076',\n",
    "           'ZZ_MK_RULungSBRT3796', 'ZZ_MK_LLLungSBRT3977']\n",
    "for ii in range(len(folders)):\n",
    "    plt.figure()\n",
    "    plotCompareD2cm(folders[ii], legend=True)\n",
    "    plt.savefig(f\"fig1{chr(ii + 97)}.png\", bbox_inches='tight', dpi=300);"
   ]
  },
  {
   "cell_type": "code",
   "execution_count": null,
   "metadata": {},
   "outputs": [],
   "source": []
  }
 ],
 "metadata": {
  "kernelspec": {
   "display_name": "Python 3",
   "language": "python",
   "name": "python3"
  },
  "language_info": {
   "codemirror_mode": {
    "name": "ipython",
    "version": 3
   },
   "file_extension": ".py",
   "mimetype": "text/x-python",
   "name": "python",
   "nbconvert_exporter": "python",
   "pygments_lexer": "ipython3",
   "version": "3.7.6"
  }
 },
 "nbformat": 4,
 "nbformat_minor": 4
}
