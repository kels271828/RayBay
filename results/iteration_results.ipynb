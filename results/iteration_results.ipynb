{
 "cells": [
  {
   "cell_type": "markdown",
   "id": "1365041d",
   "metadata": {},
   "source": [
    "# Iteration Results"
   ]
  },
  {
   "cell_type": "code",
   "execution_count": 1,
   "id": "fe61074c",
   "metadata": {},
   "outputs": [],
   "source": [
    "import sys\n",
    "\n",
    "import pandas as pd\n",
    "import seaborn as sns\n",
    "\n",
    "sys.path.append('../src')\n",
    "import raybay\n",
    "from utils import get_iter_df, get_percent_diff"
   ]
  },
  {
   "cell_type": "markdown",
   "id": "b369887f",
   "metadata": {},
   "source": [
    "## With 100 Iterations"
   ]
  },
  {
   "cell_type": "code",
   "execution_count": 2,
   "id": "84a6bb54",
   "metadata": {},
   "outputs": [
    {
     "data": {
      "text/html": [
       "<div>\n",
       "<style scoped>\n",
       "    .dataframe tbody tr th:only-of-type {\n",
       "        vertical-align: middle;\n",
       "    }\n",
       "\n",
       "    .dataframe tbody tr th {\n",
       "        vertical-align: top;\n",
       "    }\n",
       "\n",
       "    .dataframe thead tr th {\n",
       "        text-align: left;\n",
       "    }\n",
       "\n",
       "    .dataframe thead tr:last-of-type th {\n",
       "        text-align: right;\n",
       "    }\n",
       "</style>\n",
       "<table border=\"1\" class=\"dataframe\">\n",
       "  <thead>\n",
       "    <tr>\n",
       "      <th></th>\n",
       "      <th colspan=\"8\" halign=\"left\">plan_iter</th>\n",
       "    </tr>\n",
       "    <tr>\n",
       "      <th></th>\n",
       "      <th>count</th>\n",
       "      <th>mean</th>\n",
       "      <th>std</th>\n",
       "      <th>min</th>\n",
       "      <th>25%</th>\n",
       "      <th>50%</th>\n",
       "      <th>75%</th>\n",
       "      <th>max</th>\n",
       "    </tr>\n",
       "    <tr>\n",
       "      <th>plan_type</th>\n",
       "      <th></th>\n",
       "      <th></th>\n",
       "      <th></th>\n",
       "      <th></th>\n",
       "      <th></th>\n",
       "      <th></th>\n",
       "      <th></th>\n",
       "      <th></th>\n",
       "    </tr>\n",
       "  </thead>\n",
       "  <tbody>\n",
       "    <tr>\n",
       "      <th>bayes</th>\n",
       "      <td>10.0</td>\n",
       "      <td>100.0</td>\n",
       "      <td>0.0</td>\n",
       "      <td>100.0</td>\n",
       "      <td>100.0</td>\n",
       "      <td>100.0</td>\n",
       "      <td>100.0</td>\n",
       "      <td>100.0</td>\n",
       "    </tr>\n",
       "    <tr>\n",
       "      <th>random</th>\n",
       "      <td>10.0</td>\n",
       "      <td>100.0</td>\n",
       "      <td>0.0</td>\n",
       "      <td>100.0</td>\n",
       "      <td>100.0</td>\n",
       "      <td>100.0</td>\n",
       "      <td>100.0</td>\n",
       "      <td>100.0</td>\n",
       "    </tr>\n",
       "  </tbody>\n",
       "</table>\n",
       "</div>"
      ],
      "text/plain": [
       "          plan_iter                                               \n",
       "              count   mean  std    min    25%    50%    75%    max\n",
       "plan_type                                                         \n",
       "bayes          10.0  100.0  0.0  100.0  100.0  100.0  100.0  100.0\n",
       "random         10.0  100.0  0.0  100.0  100.0  100.0  100.0  100.0"
      ]
     },
     "execution_count": 2,
     "metadata": {},
     "output_type": "execute_result"
    }
   ],
   "source": [
    "full_df = pd.concat([get_iter_df(plan_type) for plan_type in ['random', 'bayes']])\n",
    "full_df.groupby('plan_type').describe()"
   ]
  },
  {
   "cell_type": "code",
   "execution_count": 3,
   "id": "a9cc3d69",
   "metadata": {},
   "outputs": [
    {
     "data": {
      "image/png": "[encoded data removed]",
      "text/plain": [
       "<Figure size 432x288 with 1 Axes>"
      ]
     },
     "metadata": {},
     "output_type": "display_data"
    }
   ],
   "source": [
    "ax = sns.boxplot(x='plan_type', y='plan_iter', data=full_df)"
   ]
  },
  {
   "cell_type": "markdown",
   "id": "2c0c050b",
   "metadata": {},
   "source": [
    "### Compare plan iterations"
   ]
  },
  {
   "cell_type": "code",
   "execution_count": 4,
   "id": "54864593",
   "metadata": {},
   "outputs": [
    {
     "data": {
      "text/html": [
       "<div>\n",
       "<style scoped>\n",
       "    .dataframe tbody tr th:only-of-type {\n",
       "        vertical-align: middle;\n",
       "    }\n",
       "\n",
       "    .dataframe tbody tr th {\n",
       "        vertical-align: top;\n",
       "    }\n",
       "\n",
       "    .dataframe thead tr th {\n",
       "        text-align: left;\n",
       "    }\n",
       "\n",
       "    .dataframe thead tr:last-of-type th {\n",
       "        text-align: right;\n",
       "    }\n",
       "</style>\n",
       "<table border=\"1\" class=\"dataframe\">\n",
       "  <thead>\n",
       "    <tr>\n",
       "      <th></th>\n",
       "      <th colspan=\"8\" halign=\"left\">percent_diff</th>\n",
       "    </tr>\n",
       "    <tr>\n",
       "      <th></th>\n",
       "      <th>count</th>\n",
       "      <th>mean</th>\n",
       "      <th>std</th>\n",
       "      <th>min</th>\n",
       "      <th>25%</th>\n",
       "      <th>50%</th>\n",
       "      <th>75%</th>\n",
       "      <th>max</th>\n",
       "    </tr>\n",
       "    <tr>\n",
       "      <th>compare_type</th>\n",
       "      <th></th>\n",
       "      <th></th>\n",
       "      <th></th>\n",
       "      <th></th>\n",
       "      <th></th>\n",
       "      <th></th>\n",
       "      <th></th>\n",
       "      <th></th>\n",
       "    </tr>\n",
       "  </thead>\n",
       "  <tbody>\n",
       "    <tr>\n",
       "      <th>bayes2random</th>\n",
       "      <td>10.0</td>\n",
       "      <td>0.0</td>\n",
       "      <td>0.0</td>\n",
       "      <td>0.0</td>\n",
       "      <td>0.0</td>\n",
       "      <td>0.0</td>\n",
       "      <td>0.0</td>\n",
       "      <td>0.0</td>\n",
       "    </tr>\n",
       "  </tbody>\n",
       "</table>\n",
       "</div>"
      ],
      "text/plain": [
       "             percent_diff                                   \n",
       "                    count mean  std  min  25%  50%  75%  max\n",
       "compare_type                                                \n",
       "bayes2random         10.0  0.0  0.0  0.0  0.0  0.0  0.0  0.0"
      ]
     },
     "execution_count": 4,
     "metadata": {},
     "output_type": "execute_result"
    }
   ],
   "source": [
    "def get_iter_diff(row):\n",
    "    return get_percent_diff(row, 'plan_iter_x', 'plan_iter_y')\n",
    "\n",
    "def get_compare(plan, ref, stop=False):\n",
    "    df = pd.merge(\n",
    "        get_iter_df(plan, stop),\n",
    "        get_iter_df(ref, stop),\n",
    "        on='patient')\n",
    "    df['compare_type'] = plan + '2' + ref\n",
    "    df['percent_diff'] = df.apply(get_iter_diff, axis=1)\n",
    "    return df[['patient', 'compare_type', 'percent_diff']]\n",
    "\n",
    "pair_list = [['bayes', 'random']]\n",
    "compare_df = pd.concat([get_compare(*pair) for pair in pair_list]).reset_index(drop=True)\n",
    "compare_df.groupby('compare_type').describe()"
   ]
  },
  {
   "cell_type": "code",
   "execution_count": 5,
   "id": "3bbb05a0",
   "metadata": {},
   "outputs": [
    {
     "data": {
      "image/png": "[encoded data removed]",
      "text/plain": [
       "<Figure size 432x288 with 1 Axes>"
      ]
     },
     "metadata": {},
     "output_type": "display_data"
    }
   ],
   "source": [
    "sns.boxplot(x='compare_type', y='percent_diff', data=compare_df);"
   ]
  },
  {
   "cell_type": "markdown",
   "id": "1964fc51",
   "metadata": {},
   "source": [
    "## With Stopping Conditions"
   ]
  },
  {
   "cell_type": "code",
   "execution_count": 6,
   "id": "1713faa4",
   "metadata": {},
   "outputs": [
    {
     "data": {
      "text/html": [
       "<div>\n",
       "<style scoped>\n",
       "    .dataframe tbody tr th:only-of-type {\n",
       "        vertical-align: middle;\n",
       "    }\n",
       "\n",
       "    .dataframe tbody tr th {\n",
       "        vertical-align: top;\n",
       "    }\n",
       "\n",
       "    .dataframe thead tr th {\n",
       "        text-align: left;\n",
       "    }\n",
       "\n",
       "    .dataframe thead tr:last-of-type th {\n",
       "        text-align: right;\n",
       "    }\n",
       "</style>\n",
       "<table border=\"1\" class=\"dataframe\">\n",
       "  <thead>\n",
       "    <tr>\n",
       "      <th></th>\n",
       "      <th colspan=\"8\" halign=\"left\">plan_iter</th>\n",
       "    </tr>\n",
       "    <tr>\n",
       "      <th></th>\n",
       "      <th>count</th>\n",
       "      <th>mean</th>\n",
       "      <th>std</th>\n",
       "      <th>min</th>\n",
       "      <th>25%</th>\n",
       "      <th>50%</th>\n",
       "      <th>75%</th>\n",
       "      <th>max</th>\n",
       "    </tr>\n",
       "    <tr>\n",
       "      <th>plan_type</th>\n",
       "      <th></th>\n",
       "      <th></th>\n",
       "      <th></th>\n",
       "      <th></th>\n",
       "      <th></th>\n",
       "      <th></th>\n",
       "      <th></th>\n",
       "      <th></th>\n",
       "    </tr>\n",
       "  </thead>\n",
       "  <tbody>\n",
       "    <tr>\n",
       "      <th>bayes</th>\n",
       "      <td>10.0</td>\n",
       "      <td>36.8</td>\n",
       "      <td>14.148420</td>\n",
       "      <td>20.0</td>\n",
       "      <td>28.50</td>\n",
       "      <td>34.0</td>\n",
       "      <td>43.0</td>\n",
       "      <td>62.0</td>\n",
       "    </tr>\n",
       "    <tr>\n",
       "      <th>random</th>\n",
       "      <td>10.0</td>\n",
       "      <td>27.3</td>\n",
       "      <td>4.967673</td>\n",
       "      <td>20.0</td>\n",
       "      <td>23.25</td>\n",
       "      <td>29.0</td>\n",
       "      <td>30.0</td>\n",
       "      <td>33.0</td>\n",
       "    </tr>\n",
       "  </tbody>\n",
       "</table>\n",
       "</div>"
      ],
      "text/plain": [
       "          plan_iter                                                \n",
       "              count  mean        std   min    25%   50%   75%   max\n",
       "plan_type                                                          \n",
       "bayes          10.0  36.8  14.148420  20.0  28.50  34.0  43.0  62.0\n",
       "random         10.0  27.3   4.967673  20.0  23.25  29.0  30.0  33.0"
      ]
     },
     "execution_count": 6,
     "metadata": {},
     "output_type": "execute_result"
    }
   ],
   "source": [
    "stop_df = pd.concat([get_iter_df(plan_type, stop=True) for plan_type in ['random', 'bayes']])\n",
    "stop_df.groupby('plan_type').describe()"
   ]
  },
  {
   "cell_type": "code",
   "execution_count": 7,
   "id": "79ccdc50",
   "metadata": {},
   "outputs": [
    {
     "data": {
      "image/png": "[encoded data removed]",
      "text/plain": [
       "<Figure size 432x288 with 1 Axes>"
      ]
     },
     "metadata": {},
     "output_type": "display_data"
    }
   ],
   "source": [
    "ax = sns.boxplot(x='plan_type', y='plan_iter', data=stop_df)"
   ]
  },
  {
   "cell_type": "markdown",
   "id": "1830d7a8",
   "metadata": {},
   "source": [
    "## Compare plan iterations"
   ]
  },
  {
   "cell_type": "code",
   "execution_count": 8,
   "id": "fe5b5cc2",
   "metadata": {},
   "outputs": [
    {
     "data": {
      "text/html": [
       "<div>\n",
       "<style scoped>\n",
       "    .dataframe tbody tr th:only-of-type {\n",
       "        vertical-align: middle;\n",
       "    }\n",
       "\n",
       "    .dataframe tbody tr th {\n",
       "        vertical-align: top;\n",
       "    }\n",
       "\n",
       "    .dataframe thead tr th {\n",
       "        text-align: left;\n",
       "    }\n",
       "\n",
       "    .dataframe thead tr:last-of-type th {\n",
       "        text-align: right;\n",
       "    }\n",
       "</style>\n",
       "<table border=\"1\" class=\"dataframe\">\n",
       "  <thead>\n",
       "    <tr>\n",
       "      <th></th>\n",
       "      <th colspan=\"8\" halign=\"left\">percent_diff</th>\n",
       "    </tr>\n",
       "    <tr>\n",
       "      <th></th>\n",
       "      <th>count</th>\n",
       "      <th>mean</th>\n",
       "      <th>std</th>\n",
       "      <th>min</th>\n",
       "      <th>25%</th>\n",
       "      <th>50%</th>\n",
       "      <th>75%</th>\n",
       "      <th>max</th>\n",
       "    </tr>\n",
       "    <tr>\n",
       "      <th>compare_type</th>\n",
       "      <th></th>\n",
       "      <th></th>\n",
       "      <th></th>\n",
       "      <th></th>\n",
       "      <th></th>\n",
       "      <th></th>\n",
       "      <th></th>\n",
       "      <th></th>\n",
       "    </tr>\n",
       "  </thead>\n",
       "  <tbody>\n",
       "    <tr>\n",
       "      <th>bayes2random</th>\n",
       "      <td>10.0</td>\n",
       "      <td>33.96633</td>\n",
       "      <td>43.774856</td>\n",
       "      <td>0.0</td>\n",
       "      <td>0.0</td>\n",
       "      <td>7.575758</td>\n",
       "      <td>64.309764</td>\n",
       "      <td>106.666667</td>\n",
       "    </tr>\n",
       "  </tbody>\n",
       "</table>\n",
       "</div>"
      ],
      "text/plain": [
       "             percent_diff                                                      \\\n",
       "                    count      mean        std  min  25%       50%        75%   \n",
       "compare_type                                                                    \n",
       "bayes2random         10.0  33.96633  43.774856  0.0  0.0  7.575758  64.309764   \n",
       "\n",
       "                          \n",
       "                     max  \n",
       "compare_type              \n",
       "bayes2random  106.666667  "
      ]
     },
     "execution_count": 8,
     "metadata": {},
     "output_type": "execute_result"
    }
   ],
   "source": [
    "pair_list = [['bayes', 'random']]\n",
    "compare_df = pd.concat([get_compare(*pair, stop=True) for pair in pair_list]).reset_index(drop=True)\n",
    "compare_df.groupby('compare_type').describe()"
   ]
  },
  {
   "cell_type": "code",
   "execution_count": 9,
   "id": "22c88dc0",
   "metadata": {},
   "outputs": [
    {
     "data": {
      "image/png": "[encoded data removed]",
      "text/plain": [
       "<Figure size 432x288 with 1 Axes>"
      ]
     },
     "metadata": {},
     "output_type": "display_data"
    }
   ],
   "source": [
    "ax = sns.boxplot(x='compare_type', y='percent_diff', data=compare_df)"
   ]
  },
  {
   "cell_type": "markdown",
   "id": "212609af",
   "metadata": {},
   "source": [
    "### Compare to 100 iterations"
   ]
  },
  {
   "cell_type": "code",
   "execution_count": 10,
   "id": "bc560373",
   "metadata": {},
   "outputs": [
    {
     "data": {
      "text/html": [
       "<div>\n",
       "<style scoped>\n",
       "    .dataframe tbody tr th:only-of-type {\n",
       "        vertical-align: middle;\n",
       "    }\n",
       "\n",
       "    .dataframe tbody tr th {\n",
       "        vertical-align: top;\n",
       "    }\n",
       "\n",
       "    .dataframe thead th {\n",
       "        text-align: right;\n",
       "    }\n",
       "</style>\n",
       "<table border=\"1\" class=\"dataframe\">\n",
       "  <thead>\n",
       "    <tr style=\"text-align: right;\">\n",
       "      <th></th>\n",
       "      <th>count</th>\n",
       "      <th>mean</th>\n",
       "      <th>std</th>\n",
       "      <th>min</th>\n",
       "      <th>25%</th>\n",
       "      <th>50%</th>\n",
       "      <th>75%</th>\n",
       "      <th>max</th>\n",
       "    </tr>\n",
       "    <tr>\n",
       "      <th>plan_type</th>\n",
       "      <th></th>\n",
       "      <th></th>\n",
       "      <th></th>\n",
       "      <th></th>\n",
       "      <th></th>\n",
       "      <th></th>\n",
       "      <th></th>\n",
       "      <th></th>\n",
       "    </tr>\n",
       "  </thead>\n",
       "  <tbody>\n",
       "    <tr>\n",
       "      <th>bayes</th>\n",
       "      <td>10.0</td>\n",
       "      <td>-63.2</td>\n",
       "      <td>14.148420</td>\n",
       "      <td>-80.0</td>\n",
       "      <td>-71.50</td>\n",
       "      <td>-66.0</td>\n",
       "      <td>-57.0</td>\n",
       "      <td>-38.0</td>\n",
       "    </tr>\n",
       "    <tr>\n",
       "      <th>random</th>\n",
       "      <td>10.0</td>\n",
       "      <td>-72.7</td>\n",
       "      <td>4.967673</td>\n",
       "      <td>-80.0</td>\n",
       "      <td>-76.75</td>\n",
       "      <td>-71.0</td>\n",
       "      <td>-70.0</td>\n",
       "      <td>-67.0</td>\n",
       "    </tr>\n",
       "  </tbody>\n",
       "</table>\n",
       "</div>"
      ],
      "text/plain": [
       "           count  mean        std   min    25%   50%   75%   max\n",
       "plan_type                                                       \n",
       "bayes       10.0 -63.2  14.148420 -80.0 -71.50 -66.0 -57.0 -38.0\n",
       "random      10.0 -72.7   4.967673 -80.0 -76.75 -71.0 -70.0 -67.0"
      ]
     },
     "execution_count": 10,
     "metadata": {},
     "output_type": "execute_result"
    }
   ],
   "source": [
    "def get_iter_diff(row):\n",
    "    return get_percent_diff(row, 'plan_iter_stop', 'plan_iter_full')\n",
    "\n",
    "compare_df = pd.merge(\n",
    "    full_df,\n",
    "    stop_df,\n",
    "    on=['patient', 'plan_type'],\n",
    "    suffixes=['_full', '_stop']\n",
    ")\n",
    "compare_df = compare_df[compare_df['plan_type'].isin(['random', 'bayes'])]\n",
    "compare_df['percent_diff'] = compare_df.apply(get_iter_diff, axis=1)\n",
    "compare_df.groupby('plan_type')['percent_diff'].describe()"
   ]
  },
  {
   "cell_type": "code",
   "execution_count": 11,
   "id": "f61bb63c",
   "metadata": {},
   "outputs": [
    {
     "data": {
      "image/png": "[encoded data removed]",
      "text/plain": [
       "<Figure size 432x288 with 1 Axes>"
      ]
     },
     "metadata": {},
     "output_type": "display_data"
    }
   ],
   "source": [
    "ax = sns.boxplot(x='plan_type', y='percent_diff', data=compare_df)"
   ]
  }
 ],
 "metadata": {
  "kernelspec": {
   "display_name": "Python 3 (ipykernel)",
   "language": "python",
   "name": "python3"
  },
  "language_info": {
   "codemirror_mode": {
    "name": "ipython",
    "version": 3
   },
   "file_extension": ".py",
   "mimetype": "text/x-python",
   "name": "python",
   "nbconvert_exporter": "python",
   "pygments_lexer": "ipython3",
   "version": "3.10.2"
  }
 },
 "nbformat": 4,
 "nbformat_minor": 5
}
