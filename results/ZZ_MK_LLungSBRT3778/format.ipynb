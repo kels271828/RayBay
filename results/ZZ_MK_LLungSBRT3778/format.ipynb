{
 "cells": [
  {
   "cell_type": "markdown",
   "metadata": {},
   "source": [
    "# Format Plans\n",
    "\n",
    "Goal and function DataFrames are not saved correctly from remote."
   ]
  },
  {
   "cell_type": "code",
   "execution_count": 1,
   "metadata": {},
   "outputs": [],
   "source": [
    "import pickle\n",
    "import sys\n",
    "\n",
    "import numpy as np\n",
    "import pandas as pd\n",
    "\n",
    "sys.path.append('../../src')\n",
    "import raybay"
   ]
  },
  {
   "cell_type": "code",
   "execution_count": 2,
   "metadata": {},
   "outputs": [],
   "source": [
    "# Approved plan\n",
    "approved = np.load('approved/res_approved.pkl', allow_pickle=True)\n",
    "approved.func_df = raybay.get_funcs('approved/funcs.csv')\n",
    "approved.goal_df = pd.read_csv('approved/goals.csv')\n",
    "pickle.dump(approved, open('approved/res_approved.pkl', 'wb'))"
   ]
  },
  {
   "cell_type": "code",
   "execution_count": 3,
   "metadata": {},
   "outputs": [],
   "source": [
    "# Default plan\n",
    "default = np.load('default/res_default.pkl', allow_pickle=True)\n",
    "default.func_df = raybay.get_funcs('default/funcs.csv')\n",
    "default.goal_df = pd.read_csv('default/goals.csv')\n",
    "pickle.dump(default, open('default/res_default.pkl', 'wb'))"
   ]
  },
  {
   "cell_type": "markdown",
   "metadata": {},
   "source": [
    "## Weight vs. Dose Parameters"
   ]
  },
  {
   "cell_type": "code",
   "execution_count": 4,
   "metadata": {},
   "outputs": [],
   "source": [
    "# Weights\n",
    "weight = np.load('weight/res_weight.pkl', allow_pickle=True)\n",
    "weight.func_df = raybay.get_funcs('weight/funcs_weight.csv')\n",
    "weight.goal_df = pd.read_csv('weight/goals_lin.csv')\n",
    "pickle.dump(weight, open('weight/res_weight.pkl', 'wb'))"
   ]
  },
  {
   "cell_type": "code",
   "execution_count": 5,
   "metadata": {},
   "outputs": [],
   "source": [
    "# Dose\n",
    "dose = np.load('weight/res_dose.pkl', allow_pickle=True)\n",
    "dose.func_df = raybay.get_funcs('weight/funcs_dose.csv')\n",
    "dose.goal_df = pd.read_csv('weight/goals_lin.csv')\n",
    "pickle.dump(dose, open('weight/res_dose.pkl', 'wb'))"
   ]
  },
  {
   "cell_type": "markdown",
   "metadata": {},
   "source": [
    "## Optimized plans (10D)"
   ]
  },
  {
   "cell_type": "code",
   "execution_count": 6,
   "metadata": {},
   "outputs": [],
   "source": [
    "# Bayesian search (linear-quadratic)\n",
    "bayes_linquad = np.load('bayes/res_linquad_gp_minimize.pkl', allow_pickle=True)\n",
    "bayes_linquad.func_df = raybay.get_funcs('bayes/funcs.csv')\n",
    "bayes_linquad.goal_df = pd.read_csv('bayes/goals_linquad.csv')\n",
    "pickle.dump(bayes_linquad, open('bayes/res_linquad_gp_minimize.pkl', 'wb'))"
   ]
  },
  {
   "cell_type": "code",
   "execution_count": null,
   "metadata": {},
   "outputs": [],
   "source": []
  }
 ],
 "metadata": {
  "kernelspec": {
   "display_name": "Python 3",
   "language": "python",
   "name": "python3"
  },
  "language_info": {
   "codemirror_mode": {
    "name": "ipython",
    "version": 3
   },
   "file_extension": ".py",
   "mimetype": "text/x-python",
   "name": "python",
   "nbconvert_exporter": "python",
   "pygments_lexer": "ipython3",
   "version": "3.7.6"
  }
 },
 "nbformat": 4,
 "nbformat_minor": 4
}
