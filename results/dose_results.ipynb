{
 "cells": [
  {
   "cell_type": "markdown",
   "id": "bb8cbbbc",
   "metadata": {},
   "source": [
    "# Dose Results"
   ]
  },
  {
   "cell_type": "code",
   "execution_count": 1,
   "id": "fa705d18",
   "metadata": {},
   "outputs": [],
   "source": [
    "from functools import reduce\n",
    "import sys\n",
    "\n",
    "import matplotlib.pyplot as plt\n",
    "import numpy as np\n",
    "import pandas as pd\n",
    "import seaborn as sns\n",
    "\n",
    "sys.path.append('../src')\n",
    "import raybay"
   ]
  },
  {
   "cell_type": "code",
   "execution_count": 2,
   "id": "46034d37",
   "metadata": {},
   "outputs": [],
   "source": [
    "patients = [\n",
    "    'SBRT_lung_minsun',\n",
    "    'ZZ_MK_LLungSBRT3778',\n",
    "    'ZZ_MK_LULSBRT4544',\n",
    "    'ZZ_MK_RLSBRT1931',\n",
    "    'ZZ_MK_RLungSBRT4076',\n",
    "    'ZZ_MK_RULungSBRT3796',\n",
    "    'ZZ_MK_SBRTLL7289',\n",
    "    'ZZ_MK_SBRTLLL8973',\n",
    "    'ZZ_MK_SBRTRL7289',\n",
    "    'ZZ_MK_SBRTRUL_2928allviolate'\n",
    "]"
   ]
  },
  {
   "cell_type": "code",
   "execution_count": 3,
   "id": "6e642d1a",
   "metadata": {},
   "outputs": [],
   "source": [
    "plan_types = ['clinical', 'default', 'random', 'bayes']"
   ]
  },
  {
   "cell_type": "markdown",
   "id": "0a52c4af",
   "metadata": {},
   "source": [
    "### Compared to Clinical Goal Values"
   ]
  },
  {
   "cell_type": "markdown",
   "id": "c3cf335e",
   "metadata": {},
   "source": [
    "### Compared to Clinical Plan Values"
   ]
  }
 ],
 "metadata": {
  "kernelspec": {
   "display_name": "Python 3",
   "language": "python",
   "name": "python3"
  },
  "language_info": {
   "codemirror_mode": {
    "name": "ipython",
    "version": 3
   },
   "file_extension": ".py",
   "mimetype": "text/x-python",
   "name": "python",
   "nbconvert_exporter": "python",
   "pygments_lexer": "ipython3",
   "version": "3.7.10"
  }
 },
 "nbformat": 4,
 "nbformat_minor": 5
}
