{
 "cells": [
  {
   "cell_type": "markdown",
   "id": "55bfe7dd",
   "metadata": {},
   "source": [
    "# Time Results"
   ]
  },
  {
   "cell_type": "code",
   "execution_count": 1,
   "id": "7ee448f2",
   "metadata": {},
   "outputs": [],
   "source": [
    "import sys\n",
    "\n",
    "import numpy as np\n",
    "import pandas as pd\n",
    "import seaborn as sns\n",
    "\n",
    "sys.path.append('../src')\n",
    "import raybay\n",
    "from utils import get_time_df, get_percent_diff"
   ]
  },
  {
   "cell_type": "markdown",
   "id": "467057f9",
   "metadata": {},
   "source": [
    "## Full 100 Iterations"
   ]
  },
  {
   "cell_type": "code",
   "execution_count": 2,
   "id": "71242688",
   "metadata": {},
   "outputs": [
    {
     "data": {
      "text/html": [
       "<div>\n",
       "<style scoped>\n",
       "    .dataframe tbody tr th:only-of-type {\n",
       "        vertical-align: middle;\n",
       "    }\n",
       "\n",
       "    .dataframe tbody tr th {\n",
       "        vertical-align: top;\n",
       "    }\n",
       "\n",
       "    .dataframe thead tr th {\n",
       "        text-align: left;\n",
       "    }\n",
       "\n",
       "    .dataframe thead tr:last-of-type th {\n",
       "        text-align: right;\n",
       "    }\n",
       "</style>\n",
       "<table border=\"1\" class=\"dataframe\">\n",
       "  <thead>\n",
       "    <tr>\n",
       "      <th></th>\n",
       "      <th colspan=\"8\" halign=\"left\">plan_time</th>\n",
       "    </tr>\n",
       "    <tr>\n",
       "      <th></th>\n",
       "      <th>count</th>\n",
       "      <th>mean</th>\n",
       "      <th>std</th>\n",
       "      <th>min</th>\n",
       "      <th>25%</th>\n",
       "      <th>50%</th>\n",
       "      <th>75%</th>\n",
       "      <th>max</th>\n",
       "    </tr>\n",
       "    <tr>\n",
       "      <th>plan_type</th>\n",
       "      <th></th>\n",
       "      <th></th>\n",
       "      <th></th>\n",
       "      <th></th>\n",
       "      <th></th>\n",
       "      <th></th>\n",
       "      <th></th>\n",
       "      <th></th>\n",
       "    </tr>\n",
       "  </thead>\n",
       "  <tbody>\n",
       "    <tr>\n",
       "      <th>bayes</th>\n",
       "      <td>10.0</td>\n",
       "      <td>2.377229</td>\n",
       "      <td>0.537746</td>\n",
       "      <td>1.806067</td>\n",
       "      <td>2.063525</td>\n",
       "      <td>2.268685</td>\n",
       "      <td>2.528324</td>\n",
       "      <td>3.644062</td>\n",
       "    </tr>\n",
       "    <tr>\n",
       "      <th>random</th>\n",
       "      <td>10.0</td>\n",
       "      <td>2.011782</td>\n",
       "      <td>0.541586</td>\n",
       "      <td>1.307687</td>\n",
       "      <td>1.563225</td>\n",
       "      <td>1.930469</td>\n",
       "      <td>2.413470</td>\n",
       "      <td>2.880300</td>\n",
       "    </tr>\n",
       "  </tbody>\n",
       "</table>\n",
       "</div>"
      ],
      "text/plain": [
       "          plan_time                                                    \\\n",
       "              count      mean       std       min       25%       50%   \n",
       "plan_type                                                               \n",
       "bayes          10.0  2.377229  0.537746  1.806067  2.063525  2.268685   \n",
       "random         10.0  2.011782  0.541586  1.307687  1.563225  1.930469   \n",
       "\n",
       "                               \n",
       "                75%       max  \n",
       "plan_type                      \n",
       "bayes      2.528324  3.644062  \n",
       "random     2.413470  2.880300  "
      ]
     },
     "execution_count": 2,
     "metadata": {},
     "output_type": "execute_result"
    }
   ],
   "source": [
    "full_df = pd.concat([get_time_df(plan_type) for plan_type in ['random', 'bayes']])\n",
    "full_df.groupby('plan_type').describe()"
   ]
  },
  {
   "cell_type": "code",
   "execution_count": 3,
   "id": "db6991ad",
   "metadata": {},
   "outputs": [
    {
     "data": {
      "image/png": "[encoded data removed]",
      "text/plain": [
       "<Figure size 432x288 with 1 Axes>"
      ]
     },
     "metadata": {},
     "output_type": "display_data"
    }
   ],
   "source": [
    "sns.boxplot(x='plan_type', y='plan_time', data=full_df);"
   ]
  },
  {
   "cell_type": "markdown",
   "id": "14692163",
   "metadata": {},
   "source": [
    "## Compare time"
   ]
  },
  {
   "cell_type": "code",
   "execution_count": 19,
   "id": "7c2e28e4",
   "metadata": {},
   "outputs": [
    {
     "data": {
      "text/plain": [
       "count    10.000000\n",
       "mean    -21.926779\n",
       "std      19.000947\n",
       "min     -45.825691\n",
       "25%     -31.746161\n",
       "50%     -25.884265\n",
       "75%     -17.547999\n",
       "max      25.342210\n",
       "Name: time_diff, dtype: float64"
      ]
     },
     "execution_count": 19,
     "metadata": {},
     "output_type": "execute_result"
    }
   ],
   "source": [
    "def get_time_diff(row):\n",
    "    return 60.0*(row['plan_time_x'] - row['plan_time_y'])\n",
    "\n",
    "def get_compare(plan, ref, stop=False):\n",
    "    df = pd.merge(\n",
    "        get_time_df(plan, stop),\n",
    "        get_time_df(ref, stop),\n",
    "        on=['patient'])\n",
    "    df['time_diff'] = df.apply(get_time_diff, axis=1)\n",
    "    return df[['patient', 'time_diff']]\n",
    "\n",
    "compare_df = get_compare('random', 'bayes')\n",
    "compare_df['time_diff'].describe()"
   ]
  },
  {
   "cell_type": "code",
   "execution_count": 21,
   "id": "83024345",
   "metadata": {},
   "outputs": [
    {
     "data": {
      "image/png": "[encoded data removed]",
      "text/plain": [
       "<Figure size 432x288 with 1 Axes>"
      ]
     },
     "metadata": {},
     "output_type": "display_data"
    }
   ],
   "source": [
    "sns.boxplot(x='time_diff', data=compare_df);"
   ]
  },
  {
   "cell_type": "markdown",
   "id": "c2123e7f",
   "metadata": {},
   "source": [
    "## With Stopping Conditions"
   ]
  },
  {
   "cell_type": "code",
   "execution_count": 4,
   "id": "4eebcc5c",
   "metadata": {},
   "outputs": [
    {
     "data": {
      "text/html": [
       "<div>\n",
       "<style scoped>\n",
       "    .dataframe tbody tr th:only-of-type {\n",
       "        vertical-align: middle;\n",
       "    }\n",
       "\n",
       "    .dataframe tbody tr th {\n",
       "        vertical-align: top;\n",
       "    }\n",
       "\n",
       "    .dataframe thead tr th {\n",
       "        text-align: left;\n",
       "    }\n",
       "\n",
       "    .dataframe thead tr:last-of-type th {\n",
       "        text-align: right;\n",
       "    }\n",
       "</style>\n",
       "<table border=\"1\" class=\"dataframe\">\n",
       "  <thead>\n",
       "    <tr>\n",
       "      <th></th>\n",
       "      <th colspan=\"8\" halign=\"left\">plan_time</th>\n",
       "    </tr>\n",
       "    <tr>\n",
       "      <th></th>\n",
       "      <th>count</th>\n",
       "      <th>mean</th>\n",
       "      <th>std</th>\n",
       "      <th>min</th>\n",
       "      <th>25%</th>\n",
       "      <th>50%</th>\n",
       "      <th>75%</th>\n",
       "      <th>max</th>\n",
       "    </tr>\n",
       "    <tr>\n",
       "      <th>plan_type</th>\n",
       "      <th></th>\n",
       "      <th></th>\n",
       "      <th></th>\n",
       "      <th></th>\n",
       "      <th></th>\n",
       "      <th></th>\n",
       "      <th></th>\n",
       "      <th></th>\n",
       "    </tr>\n",
       "  </thead>\n",
       "  <tbody>\n",
       "    <tr>\n",
       "      <th>bayes</th>\n",
       "      <td>10.0</td>\n",
       "      <td>0.769138</td>\n",
       "      <td>0.390137</td>\n",
       "      <td>0.336623</td>\n",
       "      <td>0.506783</td>\n",
       "      <td>0.673120</td>\n",
       "      <td>0.896484</td>\n",
       "      <td>1.458116</td>\n",
       "    </tr>\n",
       "    <tr>\n",
       "      <th>random</th>\n",
       "      <td>10.0</td>\n",
       "      <td>0.539620</td>\n",
       "      <td>0.156573</td>\n",
       "      <td>0.338744</td>\n",
       "      <td>0.444567</td>\n",
       "      <td>0.533956</td>\n",
       "      <td>0.610334</td>\n",
       "      <td>0.875630</td>\n",
       "    </tr>\n",
       "  </tbody>\n",
       "</table>\n",
       "</div>"
      ],
      "text/plain": [
       "          plan_time                                                    \\\n",
       "              count      mean       std       min       25%       50%   \n",
       "plan_type                                                               \n",
       "bayes          10.0  0.769138  0.390137  0.336623  0.506783  0.673120   \n",
       "random         10.0  0.539620  0.156573  0.338744  0.444567  0.533956   \n",
       "\n",
       "                               \n",
       "                75%       max  \n",
       "plan_type                      \n",
       "bayes      0.896484  1.458116  \n",
       "random     0.610334  0.875630  "
      ]
     },
     "execution_count": 4,
     "metadata": {},
     "output_type": "execute_result"
    }
   ],
   "source": [
    "stop_df = pd.concat([get_time_df(plan_type, stop=True) for plan_type in ['random', 'bayes']])\n",
    "stop_df.groupby('plan_type').describe()"
   ]
  },
  {
   "cell_type": "code",
   "execution_count": 5,
   "id": "e8933d3a",
   "metadata": {},
   "outputs": [
    {
     "data": {
      "image/png": "[encoded data removed]",
      "text/plain": [
       "<Figure size 432x288 with 1 Axes>"
      ]
     },
     "metadata": {},
     "output_type": "display_data"
    }
   ],
   "source": [
    "sns.boxplot(x='plan_type', y='plan_time', data=stop_df);"
   ]
  },
  {
   "cell_type": "markdown",
   "id": "5515ea1f",
   "metadata": {},
   "source": [
    "## Compare"
   ]
  },
  {
   "cell_type": "code",
   "execution_count": 6,
   "id": "837e243c",
   "metadata": {},
   "outputs": [
    {
     "data": {
      "text/html": [
       "<div>\n",
       "<style scoped>\n",
       "    .dataframe tbody tr th:only-of-type {\n",
       "        vertical-align: middle;\n",
       "    }\n",
       "\n",
       "    .dataframe tbody tr th {\n",
       "        vertical-align: top;\n",
       "    }\n",
       "\n",
       "    .dataframe thead th {\n",
       "        text-align: right;\n",
       "    }\n",
       "</style>\n",
       "<table border=\"1\" class=\"dataframe\">\n",
       "  <thead>\n",
       "    <tr style=\"text-align: right;\">\n",
       "      <th></th>\n",
       "      <th>count</th>\n",
       "      <th>mean</th>\n",
       "      <th>std</th>\n",
       "      <th>min</th>\n",
       "      <th>25%</th>\n",
       "      <th>50%</th>\n",
       "      <th>75%</th>\n",
       "      <th>max</th>\n",
       "    </tr>\n",
       "    <tr>\n",
       "      <th>plan_type</th>\n",
       "      <th></th>\n",
       "      <th></th>\n",
       "      <th></th>\n",
       "      <th></th>\n",
       "      <th></th>\n",
       "      <th></th>\n",
       "      <th></th>\n",
       "      <th></th>\n",
       "    </tr>\n",
       "  </thead>\n",
       "  <tbody>\n",
       "    <tr>\n",
       "      <th>bayes</th>\n",
       "      <td>10.0</td>\n",
       "      <td>-68.119919</td>\n",
       "      <td>13.384831</td>\n",
       "      <td>-83.865829</td>\n",
       "      <td>-77.946778</td>\n",
       "      <td>-70.325639</td>\n",
       "      <td>-62.994082</td>\n",
       "      <td>-42.513548</td>\n",
       "    </tr>\n",
       "    <tr>\n",
       "      <th>random</th>\n",
       "      <td>10.0</td>\n",
       "      <td>-72.786692</td>\n",
       "      <td>5.145727</td>\n",
       "      <td>-81.960607</td>\n",
       "      <td>-76.617420</td>\n",
       "      <td>-70.874817</td>\n",
       "      <td>-69.767940</td>\n",
       "      <td>-67.168159</td>\n",
       "    </tr>\n",
       "  </tbody>\n",
       "</table>\n",
       "</div>"
      ],
      "text/plain": [
       "           count       mean        std        min        25%        50%  \\\n",
       "plan_type                                                                 \n",
       "bayes       10.0 -68.119919  13.384831 -83.865829 -77.946778 -70.325639   \n",
       "random      10.0 -72.786692   5.145727 -81.960607 -76.617420 -70.874817   \n",
       "\n",
       "                 75%        max  \n",
       "plan_type                        \n",
       "bayes     -62.994082 -42.513548  \n",
       "random    -69.767940 -67.168159  "
      ]
     },
     "execution_count": 6,
     "metadata": {},
     "output_type": "execute_result"
    }
   ],
   "source": [
    "def get_time_diff(row):\n",
    "    return get_percent_diff(row, 'plan_time_stop', 'plan_time_full')\n",
    "\n",
    "compare_df = pd.merge(\n",
    "    full_df,\n",
    "    stop_df,\n",
    "    on=['patient', 'plan_type'],\n",
    "    suffixes=['_full', '_stop']\n",
    ")\n",
    "compare_df['percent_diff'] = compare_df.apply(get_time_diff, axis=1)\n",
    "compare_df.groupby('plan_type')['percent_diff'].describe()"
   ]
  },
  {
   "cell_type": "code",
   "execution_count": 7,
   "id": "cc9b74b6",
   "metadata": {},
   "outputs": [
    {
     "data": {
      "image/png": "[encoded data removed]",
      "text/plain": [
       "<Figure size 432x288 with 1 Axes>"
      ]
     },
     "metadata": {},
     "output_type": "display_data"
    }
   ],
   "source": [
    "sns.boxplot(x='plan_type', y='percent_diff', data=compare_df);"
   ]
  }
 ],
 "metadata": {
  "kernelspec": {
   "display_name": "Python 3",
   "language": "python",
   "name": "python3"
  },
  "language_info": {
   "codemirror_mode": {
    "name": "ipython",
    "version": 3
   },
   "file_extension": ".py",
   "mimetype": "text/x-python",
   "name": "python",
   "nbconvert_exporter": "python",
   "pygments_lexer": "ipython3",
   "version": "3.7.10"
  }
 },
 "nbformat": 4,
 "nbformat_minor": 5
}
