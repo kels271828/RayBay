{
 "cells": [
  {
   "cell_type": "markdown",
   "id": "71737d02",
   "metadata": {},
   "source": [
    "# Time Results"
   ]
  },
  {
   "cell_type": "code",
   "execution_count": 1,
   "id": "ff35777a",
   "metadata": {},
   "outputs": [],
   "source": [
    "import sys\n",
    "\n",
    "import numpy as np\n",
    "import pandas as pd\n",
    "import seaborn as sns\n",
    "\n",
    "sys.path.append('../src')\n",
    "import raybay\n",
    "from utils import patients, get_plan_path"
   ]
  },
  {
   "cell_type": "code",
   "execution_count": 2,
   "id": "045958ec",
   "metadata": {},
   "outputs": [],
   "source": [
    "def get_time_df(plan_type):\n",
    "    df = pd.DataFrame({\n",
    "        'patient': patients,\n",
    "        'plan_type': 10*[plan_type],\n",
    "        'plan_time': [get_plan_time(patient, plan_type) for patient in patients]\n",
    "    })\n",
    "    return df\n",
    "\n",
    "def get_plan_time(patient, plan_type):\n",
    "    if plan_type in ('clinical', 'default'):\n",
    "        raise Exception(f\"Time not recorded for {plan_type} plans.\")\n",
    "    plan = np.load(patient + get_plan_path(plan_type), allow_pickle=True)\n",
    "    return plan.time/3600.0"
   ]
  },
  {
   "cell_type": "code",
   "execution_count": 3,
   "id": "3f964c0c",
   "metadata": {},
   "outputs": [
    {
     "data": {
      "text/html": [
       "<div>\n",
       "<style scoped>\n",
       "    .dataframe tbody tr th:only-of-type {\n",
       "        vertical-align: middle;\n",
       "    }\n",
       "\n",
       "    .dataframe tbody tr th {\n",
       "        vertical-align: top;\n",
       "    }\n",
       "\n",
       "    .dataframe thead tr th {\n",
       "        text-align: left;\n",
       "    }\n",
       "\n",
       "    .dataframe thead tr:last-of-type th {\n",
       "        text-align: right;\n",
       "    }\n",
       "</style>\n",
       "<table border=\"1\" class=\"dataframe\">\n",
       "  <thead>\n",
       "    <tr>\n",
       "      <th></th>\n",
       "      <th colspan=\"8\" halign=\"left\">plan_time</th>\n",
       "    </tr>\n",
       "    <tr>\n",
       "      <th></th>\n",
       "      <th>count</th>\n",
       "      <th>mean</th>\n",
       "      <th>std</th>\n",
       "      <th>min</th>\n",
       "      <th>25%</th>\n",
       "      <th>50%</th>\n",
       "      <th>75%</th>\n",
       "      <th>max</th>\n",
       "    </tr>\n",
       "    <tr>\n",
       "      <th>plan_type</th>\n",
       "      <th></th>\n",
       "      <th></th>\n",
       "      <th></th>\n",
       "      <th></th>\n",
       "      <th></th>\n",
       "      <th></th>\n",
       "      <th></th>\n",
       "      <th></th>\n",
       "    </tr>\n",
       "  </thead>\n",
       "  <tbody>\n",
       "    <tr>\n",
       "      <th>bayes</th>\n",
       "      <td>10.0</td>\n",
       "      <td>2.377229</td>\n",
       "      <td>0.537746</td>\n",
       "      <td>1.806067</td>\n",
       "      <td>2.063525</td>\n",
       "      <td>2.268685</td>\n",
       "      <td>2.528324</td>\n",
       "      <td>3.644062</td>\n",
       "    </tr>\n",
       "    <tr>\n",
       "      <th>random</th>\n",
       "      <td>10.0</td>\n",
       "      <td>2.011782</td>\n",
       "      <td>0.541586</td>\n",
       "      <td>1.307687</td>\n",
       "      <td>1.563225</td>\n",
       "      <td>1.930469</td>\n",
       "      <td>2.413470</td>\n",
       "      <td>2.880300</td>\n",
       "    </tr>\n",
       "  </tbody>\n",
       "</table>\n",
       "</div>"
      ],
      "text/plain": [
       "          plan_time                                                    \\\n",
       "              count      mean       std       min       25%       50%   \n",
       "plan_type                                                               \n",
       "bayes          10.0  2.377229  0.537746  1.806067  2.063525  2.268685   \n",
       "random         10.0  2.011782  0.541586  1.307687  1.563225  1.930469   \n",
       "\n",
       "                               \n",
       "                75%       max  \n",
       "plan_type                      \n",
       "bayes      2.528324  3.644062  \n",
       "random     2.413470  2.880300  "
      ]
     },
     "execution_count": 3,
     "metadata": {},
     "output_type": "execute_result"
    }
   ],
   "source": [
    "time_df = pd.concat([get_time_df(plan_type) for plan_type in ['random', 'bayes']])\n",
    "time_df.groupby('plan_type').describe()"
   ]
  },
  {
   "cell_type": "code",
   "execution_count": 4,
   "id": "f40f8f51",
   "metadata": {},
   "outputs": [
    {
     "data": {
      "image/png": "[encoded data removed]",
      "text/plain": [
       "<Figure size 432x288 with 1 Axes>"
      ]
     },
     "metadata": {},
     "output_type": "display_data"
    }
   ],
   "source": [
    "sns.boxplot(x='plan_type', y='plan_time', data=time_df);"
   ]
  }
 ],
 "metadata": {
  "kernelspec": {
   "display_name": "Python 3",
   "language": "python",
   "name": "python3"
  },
  "language_info": {
   "codemirror_mode": {
    "name": "ipython",
    "version": 3
   },
   "file_extension": ".py",
   "mimetype": "text/x-python",
   "name": "python",
   "nbconvert_exporter": "python",
   "pygments_lexer": "ipython3",
   "version": "3.7.10"
  }
 },
 "nbformat": 4,
 "nbformat_minor": 5
}
