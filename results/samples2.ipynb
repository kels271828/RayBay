{
 "cells": [
  {
   "cell_type": "markdown",
   "metadata": {},
   "source": [
    "# New Samples\n",
    "\n",
    "RayStation plan \"goalObjs\"\n",
    "\n",
    "## Clinical Goals\n",
    "idx | Name | Description | Type | GoalCriteria | AcceptanceLevel | ParameterValue\n",
    "-|-|-|-|-|-|-\n",
    "3 | Heart | At most 15 cm$^3$ volume at 2800 cGy dose | AbsoluteVolumeAtDose | AtMost | 15 | 2800\n",
    "9 | Lungs | At most 10 % volume at 2000 cGy dose | VolumeAtDose | AtMost | 0.1 | 2000\n",
    "11 | SpinalCanal |  At most 2080 cGy dose at 0.35 cm$^3$ volume | DoseAtAbsoluteVolume| AtMost | 2080 | 0.35\n",
    "14 | Rib | At most 1 cm$^3$ volume at 3200 cGy dose | AbsoluteVolumeAtDose | AtMost | 1 | 3200\n",
    "18 | Chestwall_L | At most 30 cm$^3$ volume at 3000 cGy dose | AbsoluteVolumeAtDose | AtMost | 30 | 3000\n",
    "19 | PTV | At least 95 % volume at 4800 cGy dose | VolumeAtDose | AtLeast | 0.95 | 4800\n",
    "20 | PTV | At least 99 % volume at 4320 cGy dose | VolumeAtDose | AtLeast | 0.99 | 4320\n",
    "\n",
    "### Modifications\n",
    "\n",
    "For the DVH objectives specified in cm$^3$, I calculated percents based on total volume:\n",
    "\n",
    "Name | Goal Volume | Total Volume | Percent Volume\n",
    "-|-|-|-\n",
    "Rib | 1 | 367.26 | 0.27\n",
    "SpinalCanal | 0.35 | 51.93 | 0.67\n",
    "Chestwall_L | 30 | 1468.53 | 2.04\n",
    "Heart | 15 | 816.05 | 1.84\n",
    "\n",
    "\n",
    "## Objective Terms\n",
    "\n",
    "I am choosing not to tune the PTV MinDose parameter, since that's the value that I will end up normalizing it to in the end. Unlike the previous samples I've looked at, for this run I removed all other objective function terms.\n",
    "\n",
    "idx | Name | Description | FunctionType | DoseValue | PercentVolume | Weight\n",
    "-|-|-|-|-|-|-\n",
    "0 | PTV | Min Dose 4800 cGy | MinDose | 4800 | 0 | 1\n",
    "1 | PTV | Max Dose 6200 cGy | MaxDose | 6200 | 0 | 1\n",
    "2 | Rib | Max DVH 3200 cGy to 0.27% volume | MaxDvh | 3200 | 0.27 | 1\n",
    "3 | SpinalCanal | Max DVH 2080 cGy to 0.67% volume | MaxDvh | 2080 | 0.67 | 1\n",
    "4 | Heart | Max DVH 2800 to 2% volume | MaxDvh | 2800 | 1.84 | 1\n",
    "5 | Chestwall_L | Max DVH 3000 cGy to 2.04% volume | MaxDvh | 3000 | 2.04 | 1\n",
    "6 | Lungs | Max DVH 2000 cGy to 10% volume | MaxDvh | 2000 | 10 | 1"
   ]
  },
  {
   "cell_type": "code",
   "execution_count": null,
   "metadata": {},
   "outputs": [],
   "source": [
    "# Work on modifying just the dose values\n",
    "# What ranges to samples from?\n",
    "\n",
    "# I think I'll also add goals that I'll grab based directly on the objective\n",
    "# (Some of the goals are in terms of the percent rather than the dose)\n",
    "\n"
   ]
  },
  {
   "cell_type": "code",
   "execution_count": null,
   "metadata": {},
   "outputs": [],
   "source": [
    "# TODO\n",
    "\n",
    "# get_goals(): Create new one for my specific objective values\n",
    "# Choose parameter ranges\n",
    "# How many samples to grab?"
   ]
  },
  {
   "cell_type": "code",
   "execution_count": 3,
   "metadata": {},
   "outputs": [],
   "source": [
    "Guesing about 250 samples, about 5 hours (estimate)"
   ]
  },
  {
   "cell_type": "code",
   "execution_count": 7,
   "metadata": {},
   "outputs": [
    {
     "data": {
      "text/plain": [
       "1.4705882352941178"
      ]
     },
     "execution_count": 7,
     "metadata": {},
     "output_type": "execute_result"
    }
   ],
   "source": [
    "6198"
   ]
  },
  {
   "cell_type": "code",
   "execution_count": 13,
   "metadata": {},
   "outputs": [
    {
     "data": {
      "text/plain": [
       "5500.0"
      ]
     },
     "execution_count": 13,
     "metadata": {},
     "output_type": "execute_result"
    }
   ],
   "source": [
    "6200 - (6200 - 4800)/2"
   ]
  },
  {
   "cell_type": "code",
   "execution_count": null,
   "metadata": {},
   "outputs": [],
   "source": [
    "# go until get 100 good plans, keep flag, keep normalized values"
   ]
  },
  {
   "cell_type": "code",
   "execution_count": null,
   "metadata": {},
   "outputs": [],
   "source": [
    "# Check max iteration and when conversion happens (these are taking much less iterations to converge)\n",
    "# Might converge faster because I have less objective terms"
   ]
  }
 ],
 "metadata": {
  "kernelspec": {
   "display_name": "Python 3",
   "language": "python",
   "name": "python3"
  },
  "language_info": {
   "codemirror_mode": {
    "name": "ipython",
    "version": 3
   },
   "file_extension": ".py",
   "mimetype": "text/x-python",
   "name": "python",
   "nbconvert_exporter": "python",
   "pygments_lexer": "ipython3",
   "version": "3.7.6"
  }
 },
 "nbformat": 4,
 "nbformat_minor": 4
}
